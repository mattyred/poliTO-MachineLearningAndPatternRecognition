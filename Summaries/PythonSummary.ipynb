{
 "cells": [
  {
   "cell_type": "markdown",
   "id": "ac5a65bb",
   "metadata": {},
   "source": [
    "# Python\n",
    "* High level interpreted language\n",
    "* We will use the version 3 of Python\n",
    "* Different programming paradigms are supported\n",
    "* IPython: enhanced interactive shell\n",
    "\n",
    "## Data types\n",
    "Numerical types (int, float)"
   ]
  },
  {
   "cell_type": "code",
   "execution_count": 1,
   "id": "bf11b5b7",
   "metadata": {},
   "outputs": [
    {
     "data": {
      "text/plain": [
       "4"
      ]
     },
     "execution_count": 1,
     "metadata": {},
     "output_type": "execute_result"
    }
   ],
   "source": [
    "2 + 2"
   ]
  },
  {
   "cell_type": "code",
   "execution_count": 2,
   "id": "31d42e66",
   "metadata": {},
   "outputs": [
    {
     "data": {
      "text/plain": [
       "16.5"
      ]
     },
     "execution_count": 2,
     "metadata": {},
     "output_type": "execute_result"
    }
   ],
   "source": [
    "3.0 * 5.5"
   ]
  },
  {
   "cell_type": "markdown",
   "id": "b17e2396",
   "metadata": {},
   "source": [
    "The operator ** allows computing powers"
   ]
  },
  {
   "cell_type": "code",
   "execution_count": 3,
   "id": "1da13fff",
   "metadata": {},
   "outputs": [
    {
     "data": {
      "text/plain": [
       "81"
      ]
     },
     "execution_count": 3,
     "metadata": {},
     "output_type": "execute_result"
    }
   ],
   "source": [
    "3**4"
   ]
  },
  {
   "cell_type": "markdown",
   "id": "5c6366d7",
   "metadata": {},
   "source": [
    "To perform the float division: /"
   ]
  },
  {
   "cell_type": "code",
   "execution_count": 4,
   "id": "4d03119a",
   "metadata": {},
   "outputs": [
    {
     "data": {
      "text/plain": [
       "1.5"
      ]
     },
     "execution_count": 4,
     "metadata": {},
     "output_type": "execute_result"
    }
   ],
   "source": [
    "6 / 4"
   ]
  },
  {
   "cell_type": "code",
   "execution_count": null,
   "id": "7b4b9b7f",
   "metadata": {},
   "outputs": [],
   "source": [
    "To perform an integer division: //"
   ]
  },
  {
   "cell_type": "code",
   "execution_count": 5,
   "id": "b34a1039",
   "metadata": {},
   "outputs": [
    {
     "data": {
      "text/plain": [
       "1"
      ]
     },
     "execution_count": 5,
     "metadata": {},
     "output_type": "execute_result"
    }
   ],
   "source": [
    "6 // 4"
   ]
  },
  {
   "cell_type": "markdown",
   "id": "06495016",
   "metadata": {},
   "source": [
    "Reminder operator: %"
   ]
  },
  {
   "cell_type": "code",
   "execution_count": 6,
   "id": "3224a0dc",
   "metadata": {},
   "outputs": [
    {
     "data": {
      "text/plain": [
       "2"
      ]
     },
     "execution_count": 6,
     "metadata": {},
     "output_type": "execute_result"
    }
   ],
   "source": [
    "6 % 4"
   ]
  },
  {
   "cell_type": "markdown",
   "id": "3d2cbada",
   "metadata": {},
   "source": [
    "## Strings\n",
    "Strings are sequences of characters enclosed in single quotes '...' or in double quotes \"...\""
   ]
  },
  {
   "cell_type": "code",
   "execution_count": 7,
   "id": "74c47211",
   "metadata": {},
   "outputs": [
    {
     "data": {
      "text/plain": [
       "16"
      ]
     },
     "execution_count": 7,
     "metadata": {},
     "output_type": "execute_result"
    }
   ],
   "source": [
    "s = \"This is a string\"\n",
    "len(s)"
   ]
  },
  {
   "cell_type": "markdown",
   "id": "3a8a4d43",
   "metadata": {},
   "source": [
    "Strings are immutable (they cannot be modified but new strings can be obtained from existing ones)\n"
   ]
  },
  {
   "cell_type": "code",
   "execution_count": 8,
   "id": "68322474",
   "metadata": {},
   "outputs": [
    {
     "data": {
      "text/plain": [
       "'This is a string'"
      ]
     },
     "execution_count": 8,
     "metadata": {},
     "output_type": "execute_result"
    }
   ],
   "source": [
    "s1 = \"This is\"\n",
    "s2 = \" a string\"\n",
    "s1+s2 # string concatenation"
   ]
  },
  {
   "cell_type": "markdown",
   "id": "613d489f",
   "metadata": {},
   "source": [
    "Strings can also be indexed"
   ]
  },
  {
   "cell_type": "code",
   "execution_count": 9,
   "id": "22b5e2e7",
   "metadata": {},
   "outputs": [
    {
     "data": {
      "text/plain": [
       "'e'"
      ]
     },
     "execution_count": 9,
     "metadata": {},
     "output_type": "execute_result"
    }
   ],
   "source": [
    "s = 'Hello'\n",
    "s[1]"
   ]
  },
  {
   "cell_type": "markdown",
   "id": "3fba3914",
   "metadata": {},
   "source": [
    "Negative indices: they can be used to **index from the end** (but -0 is equal to 0 and is the index of the first element!)"
   ]
  },
  {
   "cell_type": "code",
   "execution_count": 10,
   "id": "c36e39f1",
   "metadata": {},
   "outputs": [
    {
     "data": {
      "text/plain": [
       "'o'"
      ]
     },
     "execution_count": 10,
     "metadata": {},
     "output_type": "execute_result"
    }
   ],
   "source": [
    "s = \"Hello\"\n",
    "s[-1]"
   ]
  },
  {
   "cell_type": "code",
   "execution_count": 11,
   "id": "464ad72e",
   "metadata": {},
   "outputs": [
    {
     "data": {
      "text/plain": [
       "'Hel'"
      ]
     },
     "execution_count": 11,
     "metadata": {},
     "output_type": "execute_result"
    }
   ],
   "source": [
    "s[0:3] # slicing"
   ]
  },
  {
   "cell_type": "code",
   "execution_count": 12,
   "id": "5474f138",
   "metadata": {},
   "outputs": [
    {
     "data": {
      "text/plain": [
       "'lo'"
      ]
     },
     "execution_count": 12,
     "metadata": {},
     "output_type": "execute_result"
    }
   ],
   "source": [
    "s[3:]"
   ]
  },
  {
   "cell_type": "code",
   "execution_count": 13,
   "id": "2944af07",
   "metadata": {},
   "outputs": [
    {
     "data": {
      "text/plain": [
       "'Hel'"
      ]
     },
     "execution_count": 13,
     "metadata": {},
     "output_type": "execute_result"
    }
   ],
   "source": [
    "s[:3]"
   ]
  },
  {
   "cell_type": "markdown",
   "id": "3bf0e953",
   "metadata": {},
   "source": [
    "_Remember_: given the slice \\[a:b\\] characters from a included and b excluded are picked.\n",
    "\n",
    "Cosecutive slices: s\\[i:j\\] and s\\[j:k\\]\n",
    "\n",
    "The lenghth of a slice is b-a and to access a slice of length n: s\\[i:i+n\\]"
   ]
  },
  {
   "cell_type": "code",
   "execution_count": 14,
   "id": "a87a4105",
   "metadata": {},
   "outputs": [
    {
     "data": {
      "text/plain": [
       "'ll'"
      ]
     },
     "execution_count": 14,
     "metadata": {},
     "output_type": "execute_result"
    }
   ],
   "source": [
    "s[-3:-1] # picks chars from -3 to the penultimate"
   ]
  },
  {
   "cell_type": "markdown",
   "id": "d47773ef",
   "metadata": {},
   "source": [
    "### String formatting"
   ]
  },
  {
   "cell_type": "code",
   "execution_count": 86,
   "id": "ea6a83c1",
   "metadata": {},
   "outputs": [
    {
     "data": {
      "text/plain": [
       "'2 is lower than 3'"
      ]
     },
     "execution_count": 86,
     "metadata": {},
     "output_type": "execute_result"
    }
   ],
   "source": [
    "'%d is %s than %d' % (2,'lower',3)"
   ]
  },
  {
   "cell_type": "markdown",
   "id": "6774875a",
   "metadata": {},
   "source": [
    "Useful methods:"
   ]
  },
  {
   "cell_type": "code",
   "execution_count": 94,
   "id": "6ee2c984",
   "metadata": {},
   "outputs": [
    {
     "name": "stdout",
     "output_type": "stream",
     "text": [
      "hello\n",
      "\n",
      "HELLO\n",
      "\n",
      "HelLo\n",
      "helLo\n",
      "\n",
      "['1', '2', '3']\n"
     ]
    }
   ],
   "source": [
    "s = \"HelLo\\n\"\n",
    "print(s.lower())\n",
    "print(s.upper())\n",
    "print(s.rstrip()) # removes \\n\n",
    "print(s.replace('H','h'))\n",
    "print('1,2,3'.split(','))"
   ]
  },
  {
   "cell_type": "markdown",
   "id": "8ea2fac6",
   "metadata": {},
   "source": [
    "## Objects variables and types\n",
    "In python everythin is an object (int, float, str)\n",
    "\n",
    "We can **bind** values(objects) to names. A **variable** is a name binded to a value (the variable contains the pointer to the object).\n",
    "\n",
    "Variables do not have types, values always have a type\n",
    "\n",
    "## List\n",
    "A list can be built in this way:"
   ]
  },
  {
   "cell_type": "code",
   "execution_count": 16,
   "id": "8742f34e",
   "metadata": {},
   "outputs": [
    {
     "data": {
      "text/plain": [
       "[1, 2, 3]"
      ]
     },
     "execution_count": 16,
     "metadata": {},
     "output_type": "execute_result"
    }
   ],
   "source": [
    "l = [1,2,3]\n",
    "l"
   ]
  },
  {
   "cell_type": "code",
   "execution_count": 18,
   "id": "14450c5b",
   "metadata": {},
   "outputs": [
    {
     "data": {
      "text/plain": [
       "[1, 'A', [4, 3]]"
      ]
     },
     "execution_count": 18,
     "metadata": {},
     "output_type": "execute_result"
    }
   ],
   "source": [
    "l = [1, 'A', [4,3]] # elements can be heterogeneous\n",
    "l"
   ]
  },
  {
   "cell_type": "code",
   "execution_count": 19,
   "id": "9ac1c05f",
   "metadata": {},
   "outputs": [
    {
     "data": {
      "text/plain": [
       "3"
      ]
     },
     "execution_count": 19,
     "metadata": {},
     "output_type": "execute_result"
    }
   ],
   "source": [
    "len(l)"
   ]
  },
  {
   "cell_type": "code",
   "execution_count": 21,
   "id": "169aef16",
   "metadata": {},
   "outputs": [
    {
     "data": {
      "text/plain": [
       "['A']"
      ]
     },
     "execution_count": 21,
     "metadata": {},
     "output_type": "execute_result"
    }
   ],
   "source": [
    "l[1:-1] # slicing a list will return a shallow copy"
   ]
  },
  {
   "cell_type": "markdown",
   "id": "a988169b",
   "metadata": {},
   "source": [
    "Slicing can also be done providing a step value:"
   ]
  },
  {
   "cell_type": "code",
   "execution_count": 22,
   "id": "9bbf66d6",
   "metadata": {},
   "outputs": [
    {
     "data": {
      "text/plain": [
       "[1, 3, 5]"
      ]
     },
     "execution_count": 22,
     "metadata": {},
     "output_type": "execute_result"
    }
   ],
   "source": [
    "l = [1,2,3,4,5]\n",
    "l[0:5:2] # from 0 included to 5 excluded with step 2"
   ]
  },
  {
   "cell_type": "code",
   "execution_count": 23,
   "id": "f3c31584",
   "metadata": {},
   "outputs": [
    {
     "data": {
      "text/plain": [
       "[5, 4, 3, 2, 1]"
      ]
     },
     "execution_count": 23,
     "metadata": {},
     "output_type": "execute_result"
    }
   ],
   "source": [
    "l[::-1] # negative step, useful to iterate in reverse order"
   ]
  },
  {
   "cell_type": "code",
   "execution_count": 24,
   "id": "12faf787",
   "metadata": {},
   "outputs": [
    {
     "data": {
      "text/plain": [
       "[3, 2, 1]"
      ]
     },
     "execution_count": 24,
     "metadata": {},
     "output_type": "execute_result"
    }
   ],
   "source": [
    "l[0:3][::-1] # slicing and reversing"
   ]
  },
  {
   "cell_type": "markdown",
   "id": "52330ba6",
   "metadata": {},
   "source": [
    "A list can be modified by assigning values to its element (as if it were an array)"
   ]
  },
  {
   "cell_type": "code",
   "execution_count": 26,
   "id": "0e922949",
   "metadata": {},
   "outputs": [
    {
     "data": {
      "text/plain": [
       "[1, 9, 9, 9, 5]"
      ]
     },
     "execution_count": 26,
     "metadata": {},
     "output_type": "execute_result"
    }
   ],
   "source": [
    "l[1:4] = [9,9,9]\n",
    "l"
   ]
  },
  {
   "cell_type": "code",
   "execution_count": 28,
   "id": "b33a76e1",
   "metadata": {},
   "outputs": [
    {
     "data": {
      "text/plain": [
       "[1]"
      ]
     },
     "execution_count": 28,
     "metadata": {},
     "output_type": "execute_result"
    }
   ],
   "source": [
    "l[1:4] = [] # removes values in position 1,2,3\n",
    "l"
   ]
  },
  {
   "cell_type": "code",
   "execution_count": 29,
   "id": "fcfd7120",
   "metadata": {},
   "outputs": [
    {
     "data": {
      "text/plain": [
       "[1, 4]"
      ]
     },
     "execution_count": 29,
     "metadata": {},
     "output_type": "execute_result"
    }
   ],
   "source": [
    "l.append(4) # adds a new value at the end of the list\n",
    "l"
   ]
  },
  {
   "cell_type": "code",
   "execution_count": 30,
   "id": "fd3ebc02",
   "metadata": {},
   "outputs": [
    {
     "data": {
      "text/plain": [
       "[1, 4, 5, 6]"
      ]
     },
     "execution_count": 30,
     "metadata": {},
     "output_type": "execute_result"
    }
   ],
   "source": [
    "l.extend([5,6]) # to extend a list\n",
    "l"
   ]
  },
  {
   "cell_type": "code",
   "execution_count": 31,
   "id": "fa945bff",
   "metadata": {},
   "outputs": [
    {
     "data": {
      "text/plain": [
       "[1, 4, 5, 6, [5, 6]]"
      ]
     },
     "execution_count": 31,
     "metadata": {},
     "output_type": "execute_result"
    }
   ],
   "source": [
    "l.append([5,6]) # with respect to extend the method append\n",
    "# add a new element that is a list!\n",
    "l"
   ]
  },
  {
   "cell_type": "code",
   "execution_count": 32,
   "id": "6524e264",
   "metadata": {},
   "outputs": [
    {
     "data": {
      "text/plain": [
       "[4, 5, 6]"
      ]
     },
     "execution_count": 32,
     "metadata": {},
     "output_type": "execute_result"
    }
   ],
   "source": [
    "l.pop() # pops the last element\n",
    "l.pop(0) # pops the element in position 0\n",
    "l"
   ]
  },
  {
   "cell_type": "markdown",
   "id": "ece5d58c",
   "metadata": {},
   "source": [
    "Lists can be created from another iterable object by using the function `list()`"
   ]
  },
  {
   "cell_type": "code",
   "execution_count": 33,
   "id": "6dafaac8",
   "metadata": {},
   "outputs": [
    {
     "data": {
      "text/plain": [
       "[1, 2, 3]"
      ]
     },
     "execution_count": 33,
     "metadata": {},
     "output_type": "execute_result"
    }
   ],
   "source": [
    "l = list([1,2,3])\n",
    "l"
   ]
  },
  {
   "cell_type": "code",
   "execution_count": 34,
   "id": "87cacfa5",
   "metadata": {},
   "outputs": [
    {
     "data": {
      "text/plain": [
       "['H', 'e', 'l', 'l', 'o']"
      ]
     },
     "execution_count": 34,
     "metadata": {},
     "output_type": "execute_result"
    }
   ],
   "source": [
    "l = list('Hello')\n",
    "l"
   ]
  },
  {
   "cell_type": "markdown",
   "id": "2cebe920",
   "metadata": {},
   "source": [
    "## Conditional execution"
   ]
  },
  {
   "cell_type": "code",
   "execution_count": 35,
   "id": "d287a3bb",
   "metadata": {},
   "outputs": [
    {
     "name": "stdout",
     "output_type": "stream",
     "text": [
      "Positive\n"
     ]
    }
   ],
   "source": [
    "x = 3\n",
    "if x < 0:\n",
    "    print('Negative')\n",
    "elif x == 0:\n",
    "    print('Zero')\n",
    "else:\n",
    "    print('Positive')"
   ]
  },
  {
   "cell_type": "markdown",
   "id": "6300aa50",
   "metadata": {},
   "source": [
    "What **is not** converted to true:\n",
    "\n",
    "* The boolean value `False`\n",
    "* the numerical values 0, 0.0\n",
    "* Empty cllections (\\[\\] or '')\n",
    "* The special value `None`\n",
    "\n",
    "Expliciti casting: `bool()` `int()` `float()`\n",
    "\n",
    "Blocks cannot be empty, instad, use `pass`\n",
    "\n",
    "Conditional execution:"
   ]
  },
  {
   "cell_type": "code",
   "execution_count": 36,
   "id": "0a1d73d3",
   "metadata": {},
   "outputs": [
    {
     "name": "stdout",
     "output_type": "stream",
     "text": [
      "1\n"
     ]
    }
   ],
   "source": [
    "a = True\n",
    "x = 1 if a else 2\n",
    "print(x)"
   ]
  },
  {
   "cell_type": "markdown",
   "id": "beee3ce8",
   "metadata": {},
   "source": [
    "## Loops"
   ]
  },
  {
   "cell_type": "code",
   "execution_count": 37,
   "id": "70164aff",
   "metadata": {},
   "outputs": [
    {
     "name": "stdout",
     "output_type": "stream",
     "text": [
      "3\n",
      "4\n",
      "5\n"
     ]
    }
   ],
   "source": [
    "x = 3\n",
    "while x < 6:\n",
    "    print(x)\n",
    "    x = x+1\n",
    "    "
   ]
  },
  {
   "cell_type": "markdown",
   "id": "ef3ebd97",
   "metadata": {},
   "source": [
    "The `for` loop behaves in a different way: we need to pass an iterable object to iterate over. Remeber that we cannot modift the list over which we're iterating"
   ]
  },
  {
   "cell_type": "code",
   "execution_count": 38,
   "id": "3e8d539f",
   "metadata": {},
   "outputs": [
    {
     "name": "stdout",
     "output_type": "stream",
     "text": [
      "1\n",
      "2\n",
      "3\n",
      "hello\n"
     ]
    }
   ],
   "source": [
    "for x in [1,2,3,'hello']:\n",
    "    print(x)"
   ]
  },
  {
   "cell_type": "markdown",
   "id": "fed1df17",
   "metadata": {},
   "source": [
    "Useful statements: `break` and `continue`"
   ]
  },
  {
   "cell_type": "code",
   "execution_count": 41,
   "id": "de4d54c7",
   "metadata": {},
   "outputs": [
    {
     "name": "stdout",
     "output_type": "stream",
     "text": [
      "0\n",
      "1\n",
      "2\n"
     ]
    }
   ],
   "source": [
    "for x in range(3): # range() doens't create a list but an iterable object\n",
    "    print(x)"
   ]
  },
  {
   "cell_type": "code",
   "execution_count": 40,
   "id": "ef0230a4",
   "metadata": {},
   "outputs": [
    {
     "name": "stdout",
     "output_type": "stream",
     "text": [
      "1\n",
      "3\n",
      "5\n"
     ]
    }
   ],
   "source": [
    "for x in range(1,6,2): # from 1 to 5 with step 2\n",
    "    print(x)"
   ]
  },
  {
   "cell_type": "markdown",
   "id": "b13fcbaf",
   "metadata": {},
   "source": [
    "In loops we can also insert an `else` statement. It is used to fall in wheter the loop terminates without never executing a `break` statement inside."
   ]
  },
  {
   "cell_type": "code",
   "execution_count": null,
   "id": "9ff73142",
   "metadata": {},
   "outputs": [],
   "source": [
    "for n in range(2, 10):\n",
    "    for x in range(2, n):\n",
    "        if n % x == 0:\n",
    "            print(n, 'equals', x, '*', n//x)\n",
    "            break\n",
    "    else:\n",
    "        # loop fell through without finding a factor\n",
    "        print(n, 'is a prime number')"
   ]
  },
  {
   "cell_type": "markdown",
   "id": "f0e104f3",
   "metadata": {},
   "source": [
    "## Functions\n",
    "Functions can be defined using the keyword `def`"
   ]
  },
  {
   "cell_type": "code",
   "execution_count": 43,
   "id": "68660887",
   "metadata": {},
   "outputs": [
    {
     "data": {
      "text/plain": [
       "3"
      ]
     },
     "execution_count": 43,
     "metadata": {},
     "output_type": "execute_result"
    }
   ],
   "source": [
    "def f(x):\n",
    "    return x+1\n",
    "\n",
    "f(2)"
   ]
  },
  {
   "cell_type": "markdown",
   "id": "281941d9",
   "metadata": {},
   "source": [
    "The values passed to the function are object references (like passing a pointer in C)."
   ]
  },
  {
   "cell_type": "code",
   "execution_count": 46,
   "id": "7b753049",
   "metadata": {},
   "outputs": [
    {
     "name": "stdout",
     "output_type": "stream",
     "text": [
      "[1, 2, 3]\n"
     ]
    }
   ],
   "source": [
    "a = [1,2]\n",
    "def f(x):\n",
    "    x.append(3)\n",
    "f(a)\n",
    "print(a)"
   ]
  },
  {
   "cell_type": "markdown",
   "id": "cfb4fce1",
   "metadata": {},
   "source": [
    "In Python both positional and keyword arguments are allowed"
   ]
  },
  {
   "cell_type": "code",
   "execution_count": 49,
   "id": "5635d334",
   "metadata": {},
   "outputs": [
    {
     "name": "stdout",
     "output_type": "stream",
     "text": [
      "different value of b passed\n"
     ]
    }
   ],
   "source": [
    "def f(a, b=0):\n",
    "    if b==0:\n",
    "        print('b was not passed or it was passed 0')\n",
    "    else:\n",
    "        print('different value of b passed')\n",
    "        \n",
    "f(b=1,a=3)"
   ]
  },
  {
   "cell_type": "markdown",
   "id": "13e3313f",
   "metadata": {},
   "source": [
    "Positional arguments must be placed before keyword arguments (if we mix them)"
   ]
  },
  {
   "cell_type": "code",
   "execution_count": 51,
   "id": "4992e65b",
   "metadata": {},
   "outputs": [
    {
     "name": "stdout",
     "output_type": "stream",
     "text": [
      "(1, 2, 3, 4)\n"
     ]
    }
   ],
   "source": [
    "def f(*a): # arbitrary number of parameters -> arguments are passed into a tuple\n",
    "    print(a)\n",
    "f(1,2,3,4)"
   ]
  },
  {
   "cell_type": "code",
   "execution_count": 53,
   "id": "696acb65",
   "metadata": {},
   "outputs": [
    {
     "name": "stdout",
     "output_type": "stream",
     "text": [
      "{'a': 1, 'b': 2}\n"
     ]
    }
   ],
   "source": [
    "def f(*a, **kw):\n",
    "    print(kw)\n",
    "    \n",
    "f(a=1,b=2)"
   ]
  },
  {
   "cell_type": "markdown",
   "id": "c286764f",
   "metadata": {},
   "source": [
    "In Python functions are objects that can be passed to functions!\n",
    "\n",
    "Anonymous functions can be created using the keyword `lambda`"
   ]
  },
  {
   "cell_type": "code",
   "execution_count": 58,
   "id": "a07a0808",
   "metadata": {},
   "outputs": [
    {
     "data": {
      "text/plain": [
       "4"
      ]
     },
     "execution_count": 58,
     "metadata": {},
     "output_type": "execute_result"
    }
   ],
   "source": [
    "(lambda x: x+1)(3) # on the fly defining and calling the function\n"
   ]
  },
  {
   "cell_type": "markdown",
   "id": "3a06405c",
   "metadata": {},
   "source": [
    "Functions can also be defined in nested scopes. The nested function can access but nt modify the variables of the outer function"
   ]
  },
  {
   "cell_type": "code",
   "execution_count": 59,
   "id": "b6d3d14a",
   "metadata": {},
   "outputs": [
    {
     "name": "stdout",
     "output_type": "stream",
     "text": [
      "4\n"
     ]
    }
   ],
   "source": [
    "def f(x):\n",
    "    def g(y):\n",
    "        return x+y\n",
    "    print(g(1))\n",
    "f(3)"
   ]
  },
  {
   "cell_type": "code",
   "execution_count": 60,
   "id": "9c54c8ab",
   "metadata": {},
   "outputs": [
    {
     "data": {
      "text/plain": [
       "5"
      ]
     },
     "execution_count": 60,
     "metadata": {},
     "output_type": "execute_result"
    }
   ],
   "source": [
    "def add_n(n): # function with pre-set parameter\n",
    "    def add(x):\n",
    "        return x+n\n",
    "    return add\n",
    "add_3 = add_n(3)\n",
    "add_3(2)"
   ]
  },
  {
   "cell_type": "markdown",
   "id": "1d96d9bb",
   "metadata": {},
   "source": [
    "## High level data structures\n",
    "\n",
    "### Lists\n",
    "Python allows a concise syntax to create new lists: **list comprehension**\n"
   ]
  },
  {
   "cell_type": "code",
   "execution_count": 61,
   "id": "3799666a",
   "metadata": {},
   "outputs": [
    {
     "name": "stdout",
     "output_type": "stream",
     "text": [
      "[0, 1, 4, 9]\n"
     ]
    }
   ],
   "source": [
    "l = [i**2 for i in range(4)]\n",
    "print(l)"
   ]
  },
  {
   "cell_type": "code",
   "execution_count": 62,
   "id": "2590ef72",
   "metadata": {},
   "outputs": [
    {
     "data": {
      "text/plain": [
       "[0, 4, 16, 36, 64]"
      ]
     },
     "execution_count": 62,
     "metadata": {},
     "output_type": "execute_result"
    }
   ],
   "source": [
    "[i**2 for i in range(10) if i % 2 == 0] # adding a filter condition"
   ]
  },
  {
   "cell_type": "code",
   "execution_count": 64,
   "id": "55e97695",
   "metadata": {},
   "outputs": [
    {
     "data": {
      "text/plain": [
       "[0, 1, 0, 9, 0, 25, 0, 49, 0, 81]"
      ]
     },
     "execution_count": 64,
     "metadata": {},
     "output_type": "execute_result"
    }
   ],
   "source": [
    "[i**2 if i % 2 else 0 for i in range(10)]"
   ]
  },
  {
   "cell_type": "markdown",
   "id": "cd138e58",
   "metadata": {},
   "source": [
    "### Tuples\n",
    "A tuple is a sequence of values separated by the comma. They are immutable but can be indexed and sliced in the same way as lists"
   ]
  },
  {
   "cell_type": "code",
   "execution_count": 66,
   "id": "fd67f50c",
   "metadata": {},
   "outputs": [
    {
     "name": "stdout",
     "output_type": "stream",
     "text": [
      "(1, 2, 3, 'A')\n"
     ]
    }
   ],
   "source": [
    "t = (1,2,3,'A') # () are not necessary\n",
    "print(t)"
   ]
  },
  {
   "cell_type": "code",
   "execution_count": 68,
   "id": "80aad0e0",
   "metadata": {},
   "outputs": [
    {
     "name": "stdout",
     "output_type": "stream",
     "text": [
      "1 2 3\n"
     ]
    }
   ],
   "source": [
    "x, y, z = (1,2,3) # tuple unpacking\n",
    "print(x,y,z)"
   ]
  },
  {
   "cell_type": "code",
   "execution_count": 69,
   "id": "d03f160a",
   "metadata": {},
   "outputs": [
    {
     "name": "stdout",
     "output_type": "stream",
     "text": [
      "1 2\n"
     ]
    }
   ],
   "source": [
    "def f():\n",
    "    return 1,2 # tuples are used to return multiple values\n",
    "a,b = f()\n",
    "print(a,b)"
   ]
  },
  {
   "cell_type": "code",
   "execution_count": 70,
   "id": "1da45cbf",
   "metadata": {},
   "outputs": [
    {
     "name": "stdout",
     "output_type": "stream",
     "text": [
      "1 a\n",
      "2 b\n",
      "3 c\n"
     ]
    }
   ],
   "source": [
    "l = [(1,'a'), (2,'b'), (3,'c')]\n",
    "for val,name in l:\n",
    "    print(val,name)"
   ]
  },
  {
   "cell_type": "markdown",
   "id": "14493d42",
   "metadata": {},
   "source": [
    "The `zip()` function can be used to create tuples of values from a set of lists (it returns an iterator, an object that we can iterate only once)"
   ]
  },
  {
   "cell_type": "code",
   "execution_count": 71,
   "id": "00f0cce0",
   "metadata": {},
   "outputs": [
    {
     "name": "stdout",
     "output_type": "stream",
     "text": [
      "[(1, 'a'), (2, 'b'), (3, 'c')]\n"
     ]
    }
   ],
   "source": [
    "l1 = [1,2,3]\n",
    "l2 = ['a','b','c']\n",
    "l = list(zip(l1,l2))\n",
    "print(l)"
   ]
  },
  {
   "cell_type": "markdown",
   "id": "9d208787",
   "metadata": {},
   "source": [
    "The function `enumerate()` returns an iterator that provides pairs of (index, value) from a given iterable"
   ]
  },
  {
   "cell_type": "code",
   "execution_count": 72,
   "id": "7962c595",
   "metadata": {},
   "outputs": [
    {
     "name": "stdout",
     "output_type": "stream",
     "text": [
      "0 a\n",
      "1 b\n",
      "2 c\n"
     ]
    }
   ],
   "source": [
    "l2 = ['a','b','c']\n",
    "for val,name in enumerate(l2):\n",
    "    print(val,name)\n"
   ]
  },
  {
   "cell_type": "markdown",
   "id": "3becc3ce",
   "metadata": {},
   "source": [
    "### Sets\n",
    "Sets are unordered collections of items without duplicates"
   ]
  },
  {
   "cell_type": "code",
   "execution_count": 73,
   "id": "c5c49096",
   "metadata": {},
   "outputs": [
    {
     "name": "stdout",
     "output_type": "stream",
     "text": [
      "{1, 2, 3, 4, 5}\n"
     ]
    }
   ],
   "source": [
    "dup = [1,1,2,3,3,4,5,5,5]\n",
    "print(set(dup))"
   ]
  },
  {
   "cell_type": "markdown",
   "id": "375a37f4",
   "metadata": {},
   "source": [
    "To create an empty set use: `set()` because `{}` is the empty dictionary!\n",
    "\n",
    "To test if an element belongs to an object use the keyword `in`\n",
    "\n",
    "Sets implement the standard set operations (union, intersection, difference,...)"
   ]
  },
  {
   "cell_type": "markdown",
   "id": "d24c1027",
   "metadata": {},
   "source": [
    "### Dictionaries\n",
    "Dictionaries are objects that allow associating keys to values"
   ]
  },
  {
   "cell_type": "code",
   "execution_count": 74,
   "id": "fead8229",
   "metadata": {},
   "outputs": [
    {
     "name": "stdout",
     "output_type": "stream",
     "text": [
      "{'a': 1, 'b': 2, 'c': 3}\n"
     ]
    }
   ],
   "source": [
    "a = {'a':1, 'b':2, 'c':3}\n",
    "print(a)"
   ]
  },
  {
   "cell_type": "code",
   "execution_count": 75,
   "id": "8d3a5e66",
   "metadata": {},
   "outputs": [
    {
     "name": "stdout",
     "output_type": "stream",
     "text": [
      "2\n"
     ]
    }
   ],
   "source": [
    "print(a['b'])"
   ]
  },
  {
   "cell_type": "code",
   "execution_count": 76,
   "id": "9aef8272",
   "metadata": {},
   "outputs": [
    {
     "name": "stdout",
     "output_type": "stream",
     "text": [
      "True\n"
     ]
    }
   ],
   "source": [
    "print('c' in a)"
   ]
  },
  {
   "cell_type": "markdown",
   "id": "68b03d84",
   "metadata": {},
   "source": [
    "The empty dictionary can be defined with `{}`"
   ]
  },
  {
   "cell_type": "code",
   "execution_count": 77,
   "id": "9ff8c426",
   "metadata": {},
   "outputs": [
    {
     "data": {
      "text/plain": [
       "[1, 2, 3]"
      ]
     },
     "execution_count": 77,
     "metadata": {},
     "output_type": "execute_result"
    }
   ],
   "source": [
    "[a[i] for i in sorted(a)] # iterate over the keys sorted"
   ]
  },
  {
   "cell_type": "code",
   "execution_count": 83,
   "id": "04b7b581",
   "metadata": {},
   "outputs": [
    {
     "name": "stdout",
     "output_type": "stream",
     "text": [
      "a\n",
      "b\n",
      "c\n"
     ]
    }
   ],
   "source": [
    "a = {'a':1, 'b':2, 'c':3}\n",
    "for i in a.keys():\n",
    "    print(i)"
   ]
  },
  {
   "cell_type": "code",
   "execution_count": 85,
   "id": "b958830f",
   "metadata": {},
   "outputs": [
    {
     "name": "stdout",
     "output_type": "stream",
     "text": [
      "3\n",
      "2\n",
      "1\n"
     ]
    }
   ],
   "source": [
    "for i in reversed(a.values()):\n",
    "    print(i)"
   ]
  },
  {
   "cell_type": "markdown",
   "id": "b4566fce",
   "metadata": {},
   "source": [
    "## Classes and objects"
   ]
  },
  {
   "cell_type": "code",
   "execution_count": 98,
   "id": "b2f40993",
   "metadata": {},
   "outputs": [
    {
     "name": "stdout",
     "output_type": "stream",
     "text": [
      "(2,10)\n"
     ]
    }
   ],
   "source": [
    "class Point():\n",
    "    def __init__(self, x, y):\n",
    "        self.x = x\n",
    "        self.y = y\n",
    "    def __str__(self):\n",
    "        return '(' + str(self.x) + ',' + str(self.y) + ')'\n",
    "    def __add__(self, other):\n",
    "        return Point(self.x + other.x, self.y + other.y)\n",
    "    def diff(self):\n",
    "        return self.x - self.y\n",
    "        \n",
    "p1 = Point(1,5)\n",
    "p2 = Point(4,9)\n",
    "p3 = p1 + p1\n",
    "print(p3)"
   ]
  },
  {
   "cell_type": "code",
   "execution_count": null,
   "id": "904d1b04",
   "metadata": {},
   "outputs": [],
   "source": []
  }
 ],
 "metadata": {
  "kernelspec": {
   "display_name": "Python 3 (ipykernel)",
   "language": "python",
   "name": "python3"
  },
  "language_info": {
   "codemirror_mode": {
    "name": "ipython",
    "version": 3
   },
   "file_extension": ".py",
   "mimetype": "text/x-python",
   "name": "python",
   "nbconvert_exporter": "python",
   "pygments_lexer": "ipython3",
   "version": "3.9.7"
  }
 },
 "nbformat": 4,
 "nbformat_minor": 5
}
