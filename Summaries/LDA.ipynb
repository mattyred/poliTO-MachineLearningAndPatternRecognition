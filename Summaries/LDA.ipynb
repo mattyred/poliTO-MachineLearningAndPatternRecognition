{
 "cells": [
  {
   "cell_type": "markdown",
   "id": "2f30750d-ab46-43e7-be3f-c0112b260bc0",
   "metadata": {},
   "source": [
    "# LDA - Linear Discriminant Analysis"
   ]
  },
  {
   "cell_type": "markdown",
   "id": "f1c96446-8966-4329-850c-f65f557ef792",
   "metadata": {},
   "source": [
    "The goal of the LDA technique is to project the original data matrix onto a lower dimensional space. To achieve this goal, three steps needed to be performed:\n",
    "\n",
    "1) The first step is to calculate the separability between different classes, which is called the between-class variance or between-class matrix. \n",
    "2) The second step is to calculate the distance between the mean and the samples of each class, which is called the within-class variance or within-class matrix.\n",
    "3) The third step is to construct the lower dimensional space which maximizes the between-class variance and minimizes the within class variance"
   ]
  },
  {
   "cell_type": "markdown",
   "id": "5b48c11d-8dcb-4ad7-a7ce-7345aebf49d5",
   "metadata": {},
   "source": [
    "We denote the between class variance of the class i as $S_{Bi}$. Suppose to have a dataset $X = \\{x_{1},...,x_{N}\\}$ where $x_{i} \\in \\mathbb{R}^M$. Each sample $x_{i}$ has M features and there are N samples. The separation distance between different classes which is denoted by $(m_{i} − m)$ will be calculated as follows:\n",
    "$(m_{i} - m)^2 = (W^T\\mu_{i} - W^T\\mu)^2 = W^T(\\mu_{i}-\\mu)(\\mu_{i}-\\mu)^TW$\n",
    "* $m_{i}$ is the projection of the mean of the class i, $m_{i} = W^T\\mu_{i}$\n",
    "* $m$ is the projection of the mean of the class i, $m = W^T\\mu$\n",
    "* $\\mu_{i}$ is the mean of the class i\n",
    "* $\\mu$ is the mean of the dataset, $\\mu = \\frac{1}{N}\\sum\\limits_{i=1}^N \\frac{n_{i}\\mu_{i}}{N}$\n",
    "* W is the transformation matrix of LDA\n",
    "\n",
    "Moreover we can express $(m_{i}-m)^2 = W^TS_{Bi}W$ and $S_{B} = \\frac{1}{N}\\sum\\limits_{i=1}^c n_{i}S_{Bi}$ is the sum of all the \"between class covariance\""
   ]
  },
  {
   "cell_type": "markdown",
   "id": "cfd75baf-6370-4ab2-9409-5a93269d75a8",
   "metadata": {},
   "source": [
    "The within-class variance of the i-th class ($S_{Wi}$) represents the difference between the mean and the samples of that class.\n",
    "For the class i: $S_{Wj} = \\sum\\limits_{i=1}^{n_{j}} (x_{i,j} - \\mu_{j})(x_{i,j} - \\mu_{j})^T$\n",
    "\n",
    "$S_{W} = \\frac{1}{N}\\sum\\limits_{i=1}^cS_{Wi}$"
   ]
  },
  {
   "cell_type": "code",
   "execution_count": null,
   "id": "93b4f81a-fb9b-4a36-80ea-929b0899cc7f",
   "metadata": {},
   "outputs": [],
   "source": []
  }
 ],
 "metadata": {
  "kernelspec": {
   "display_name": "Python 3 (ipykernel)",
   "language": "python",
   "name": "python3"
  },
  "language_info": {
   "codemirror_mode": {
    "name": "ipython",
    "version": 3
   },
   "file_extension": ".py",
   "mimetype": "text/x-python",
   "name": "python",
   "nbconvert_exporter": "python",
   "pygments_lexer": "ipython3",
   "version": "3.9.7"
  }
 },
 "nbformat": 4,
 "nbformat_minor": 5
}
