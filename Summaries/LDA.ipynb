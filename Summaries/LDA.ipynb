{
 "cells": [
  {
   "cell_type": "markdown",
   "id": "2f30750d-ab46-43e7-be3f-c0112b260bc0",
   "metadata": {},
   "source": [
    "# LDA - Linear Discriminant Analysis"
   ]
  },
  {
   "cell_type": "markdown",
   "id": "f1c96446-8966-4329-850c-f65f557ef792",
   "metadata": {},
   "source": [
    "The goal of the LDA technique is to project the original data matrix onto a lower dimensional space. To achieve this goal, three steps needed to be performed:\n",
    "\n",
    "1) The first step is to calculate the separability between different classes, which is called the between-class variance or between-class matrix. \n",
    "2) The second step is to calculate the distance between the mean and the samples of each class, which is called the within-class variance or within-class matrix.\n",
    "3) The third step is to construct the lower dimensional space which maximizes the between-class variance and minimizes the within class variance"
   ]
  },
  {
   "cell_type": "markdown",
   "id": "5b48c11d-8dcb-4ad7-a7ce-7345aebf49d5",
   "metadata": {},
   "source": [
    "We denote the between class variance of the class i as $S_{Bi}$. Suppose to have a dataset $X = \\{x_{1},...,x_{N}\\}$ where $x_{i} \\in \\mathbb{R}^M$. Each sample $x_{i}$ has M features and there are N samples. The separation distance between different classes which is denoted by $(m_{i} − m)$ will be calculated as follows:\n",
    "$(m_{i} - m)^2 = (W^T\\mu_{i} - W^T\\mu)^2 = W^T(\\mu_{i}-\\mu)(\\mu_{i}-\\mu)^TW$\n",
    "* $m_{i}$ is the projection of the mean of the class i, $m_{i} = W^T\\mu_{i}$\n",
    "* $m$ is the projection of the mean of the class i, $m = W^T\\mu$\n",
    "* $\\mu_{i}$ is the mean of the class i\n",
    "* $\\mu$ is the mean of the dataset, $\\mu = \\frac{1}{N}\\sum\\limits_{i=1}^N \\frac{n_{i}\\mu_{i}}{N}$\n",
    "* W is the transformation matrix of LDA\n",
    "\n",
    "Moreover we can express $(m_{i}-m)^2 = W^TS_{Bi}W$ and $S_{B} = \\frac{1}{N}\\sum\\limits_{i=1}^c n_{i}S_{Bi}$ is the sum of all the \"between class covariance\""
   ]
  },
  {
   "cell_type": "markdown",
   "id": "cfd75baf-6370-4ab2-9409-5a93269d75a8",
   "metadata": {},
   "source": [
    "The within-class variance of the j-th class ($S_{Wi\n",
    "j}$) represents the difference between the mean and the samples of that class.\n",
    "For the class j: $S_{Wj} = \\frac{1}{n_{j}}\\sum\\limits_{i=1}^{n_{j}} (x_{i,j} - \\mu_{j})(x_{i,j} - \\mu_{j})^T$\n",
    "\n",
    "After having computed $S_{Wj}$ for each class j we can compute the within class variance as follows: $S_{W} = \\frac{1}{N}\\sum\\limits_{j=1}^c n_{j}S_{Wj}$\n",
    "\n",
    "In conclusion we have:\n",
    "$$ S_{W} = \\frac{1}{N}\\sum\\limits_{i=1}^c n_{i}S_{Wi} \\;,\\; S_{Wj} = \\frac{1}{n_{j}}\\sum\\limits_{i=1}^{n_{j}} (x_{i,j} - \\mu_{j})(x_{i,j} - \\mu_{j})^T$$\n",
    "$$ S_{B} = \\frac{1}{N}\\sum\\limits_{i=1}^c n_{i}S_{Bi} \\;,\\; S_{Bi} = (\\mu_{i}-\\mu)(\\mu_{i}-\\mu)^T $$"
   ]
  },
  {
   "cell_type": "markdown",
   "id": "8cbf0dc4-1874-4fc5-b225-12eefebb806f",
   "metadata": {},
   "source": [
    "After having computed $S_{W}$ and $S_{B}$ the transformation matrix $W$ of the LDA technique can be calculed throug the Fisher criterion: $arg \\max\\limits_{W} = \\frac{W S_{B} W^T}{W S_{W} W^T}$. Optimal solution $W$ can be found by solving the eigenvalue problem: $S_{W} W = \\lambda S_{B} W$.\n",
    "The solution can be obtained by computing the eigenvalues $\\lambda=\\{\\lambda_{1},...,\\lambda_{M}\\}$ and the eigenvectors $V = \\{v_{1},...,v_{M}\\}$ of the matrix $W=S_{W}^{-1}S_{B}$.\n",
    "Each eigenvector represents one axis of the LDA space, and the associated eigenvalue represents the robustness of this eigenvector. The robustness of the eigenvector reflects its ability to discriminate between different classes, i.e. increase the between-class variance, and decreases the withinclass variance of each class; hence meets the LDA goal. Thus, the eigenvectors with the $m$ highest eigenvalues are used to construct a lower dimensional space $(V_{m})$."
   ]
  },
  {
   "cell_type": "markdown",
   "id": "36661743-ff1e-49d4-a1fb-3800850d627f",
   "metadata": {},
   "source": [
    "## Numerical example - IRIS dataset"
   ]
  },
  {
   "cell_type": "code",
   "execution_count": 69,
   "id": "11688f9c-b5af-4e20-bc4e-f8dcbb427847",
   "metadata": {},
   "outputs": [],
   "source": [
    "import sklearn.datasets\n",
    "import numpy as np\n",
    "import matplotlib.pyplot as plt\n",
    "import scipy\n",
    "def load():\n",
    "    return sklearn.datasets.load_iris()['data'].T, sklearn.datasets.load_iris()['target']\n",
    "D,labels = load()"
   ]
  },
  {
   "cell_type": "markdown",
   "id": "4a4ddb03-8340-48a5-9fc7-c55e49f0e4b0",
   "metadata": {},
   "source": [
    "First we have to compute the between class variance $S_{B}$ and the within class variance $S_{W}$. \n",
    "\n",
    "Lets start from $S_{B} = \\frac{1}{N}\\sum\\limits_{c=1}^K n_{c}(\\mu_{c} - \\mu)(\\mu_{c}-\\mu)^T$ where $K$ is the number of classes(3 in our case) and N is the total number of samples(150 in our case):"
   ]
  },
  {
   "cell_type": "code",
   "execution_count": 70,
   "id": "2f5daf18-daca-4f9e-9249-ac5373628eec",
   "metadata": {},
   "outputs": [],
   "source": [
    "K = len(set(labels))\n",
    "N = D.shape[1]\n",
    "nc = np.array([np.sum(labels==i) for i in set(labels)]) # number of samples for each class"
   ]
  },
  {
   "cell_type": "markdown",
   "id": "39120162-59df-4d86-a1d5-a10f8a2cfd42",
   "metadata": {},
   "source": [
    "(1) Computation of the dataset mean $\\mu$:"
   ]
  },
  {
   "cell_type": "code",
   "execution_count": 71,
   "id": "6156dcc2-22e8-41cf-8a32-e89e1a5b9f26",
   "metadata": {},
   "outputs": [],
   "source": [
    "mu = D.mean(axis=1).reshape(-1,1) # column array with the mean of the data (representative point)"
   ]
  },
  {
   "cell_type": "markdown",
   "id": "9b6d92b7-c35e-4baf-95f1-57b3dd316620",
   "metadata": {},
   "source": [
    "(2) Computation of $\\mu_{c}$:\n",
    "\n",
    "I build the matrix `mu_matrix` that contains one column for each $\\mu_{c}$ minus the mean of the dataset `mu`."
   ]
  },
  {
   "cell_type": "code",
   "execution_count": 72,
   "id": "e484800a-2c17-4fb6-bfb8-b85c939a645f",
   "metadata": {},
   "outputs": [],
   "source": [
    "mu_matrix = np.zeros(shape=(4,3))\n",
    "for i in set(labels):\n",
    "    iris_class_i = D[:,labels == i]\n",
    "    iris_class_i_mean = np.mean(iris_class_i, axis=1).reshape(-1,1)\n",
    "    mu_matrix[:,i:i+1] = iris_class_i_mean\n",
    "mu_matrix -= mu"
   ]
  },
  {
   "cell_type": "markdown",
   "id": "d59d7680-5f95-4a3a-8263-eb01868d786f",
   "metadata": {},
   "source": [
    "(3) Computation of the whole matrix $S_{B}$:"
   ]
  },
  {
   "cell_type": "code",
   "execution_count": 73,
   "id": "ffdb542a-33b2-4764-8c91-9baa1b2ef975",
   "metadata": {},
   "outputs": [],
   "source": [
    "SB = 0\n",
    "for i in range(K):\n",
    "    SB += nc[i] * np.dot(mu_matrix[:,i:i+1], mu_matrix[:,i:i+1].T)\n",
    "SB /= N"
   ]
  },
  {
   "cell_type": "markdown",
   "id": "fe325b8f-d1f9-4b1e-b6e0-f31d3c402609",
   "metadata": {},
   "source": [
    "(4) Computation of $S_{W}$:"
   ]
  },
  {
   "cell_type": "code",
   "execution_count": 74,
   "id": "02ddaa25-eb60-4ddf-bc2f-d91789ad33e8",
   "metadata": {},
   "outputs": [],
   "source": [
    "SWc = 0\n",
    "SW = 0\n",
    "for i in range(K):\n",
    "    iris_class_i = D[:,labels == i]\n",
    "    iris_class_i_mean = np.mean(iris_class_i, axis=1).reshape(-1,1)\n",
    "    iris_class_i_centered = iris_class_i - iris_class_i_mean # center the samples of class i by subtracting the mean of the class\n",
    "    SWc = 1/nc[i] * np.dot(iris_class_i_centered, iris_class_i_centered.T)\n",
    "    SW += nc[i] * SWc # outer summary\n",
    "SW /= N"
   ]
  },
  {
   "cell_type": "markdown",
   "id": "e617e6b1-4ffe-4119-9527-6b6fa30605bb",
   "metadata": {},
   "source": [
    "Now we can solve the eigenvalue problem $S_{W} W = \\lambda S_{B} W$."
   ]
  },
  {
   "cell_type": "code",
   "execution_count": 75,
   "id": "4c668c52-422d-430a-9cd4-39791596dbbe",
   "metadata": {},
   "outputs": [
    {
     "data": {
      "text/plain": [
       "array([[ 0.83779794,  0.02434685],\n",
       "       [ 1.55005187,  2.18649663],\n",
       "       [-2.22355955, -0.94138258],\n",
       "       [-2.83899363,  2.86801283]])"
      ]
     },
     "execution_count": 75,
     "metadata": {},
     "output_type": "execute_result"
    }
   ],
   "source": [
    "m = K-1\n",
    "sigma, U = scipy.linalg.eigh(SB, SW)\n",
    "W = U[:, ::-1][:, 0:m]\n",
    "W"
   ]
  },
  {
   "cell_type": "markdown",
   "id": "a0f425c3-af25-4cbb-9d16-4a926feba364",
   "metadata": {},
   "source": [
    "The column of $W$ are not necessarly othonormal, but we can find a basis of that subspace"
   ]
  },
  {
   "cell_type": "code",
   "execution_count": 76,
   "id": "efeece1b-2e12-4a02-b02f-ab3f09b4943a",
   "metadata": {},
   "outputs": [
    {
     "data": {
      "text/plain": [
       "array([[-0.16188578, -0.13894884],\n",
       "       [-0.01900807, -0.76893743],\n",
       "       [ 0.31480747,  0.57834653],\n",
       "       [ 0.93505505, -0.23440081]])"
      ]
     },
     "execution_count": 76,
     "metadata": {},
     "output_type": "execute_result"
    }
   ],
   "source": [
    "UW, _, _ = np.linalg.svd(W)\n",
    "Wnorm = UW[:, 0:m]\n",
    "Wnorm"
   ]
  },
  {
   "cell_type": "markdown",
   "id": "0f6a0c7d-8703-4594-b447-baadb4e2fc62",
   "metadata": {},
   "source": [
    "The maximum number of dimensions that we can find is C-1. Since there are three classes of iris i can find at most 2 new dimensions. To compute the 'new' features of the dataset we have to project the dataset D along the new directions W: "
   ]
  },
  {
   "cell_type": "code",
   "execution_count": 77,
   "id": "cbc3ac58-dd99-48e3-9bde-efc48f60829a",
   "metadata": {},
   "outputs": [],
   "source": [
    "y = np.dot(W.T,D)"
   ]
  },
  {
   "cell_type": "markdown",
   "id": "8430460e-f341-490f-81a4-70b4a4eda34d",
   "metadata": {},
   "source": [
    "Now it's possible to plot the samples according to the 'new features' computed. We can notice that the new directions allow to separate better the classes rather than with the PCA"
   ]
  },
  {
   "cell_type": "code",
   "execution_count": 78,
   "id": "9bea2f01-14ac-4b97-b959-faf5ea3f16b8",
   "metadata": {},
   "outputs": [
    {
     "data": {
      "image/png": "[encoded data removed]",
      "text/plain": [
       "<Figure size 432x288 with 1 Axes>"
      ]
     },
     "metadata": {
      "needs_background": "light"
     },
     "output_type": "display_data"
    }
   ],
   "source": [
    "plt.figure()\n",
    "for i in range(K):\n",
    "    plt.scatter(y[:,labels==i][0,:], y[:,labels==i][1,:])\n",
    "plt.xlabel('y[1]')\n",
    "plt.ylabel('y[2]')\n",
    "plt.legend(['setosa','versicolor','virginica'])\n",
    "plt.show()"
   ]
  },
  {
   "cell_type": "markdown",
   "id": "ffa41568-3037-4a80-9a42-f9210faee4c0",
   "metadata": {},
   "source": [
    "### Second approach\n",
    "Another possible approach, instead of solving the eigenvalue problem, is the diagonalization of $S_{B}$ and $S_{W}$"
   ]
  },
  {
   "cell_type": "code",
   "execution_count": null,
   "id": "dd2b5635-9745-4e2a-89a8-b80a2d8507fd",
   "metadata": {},
   "outputs": [],
   "source": []
  }
 ],
 "metadata": {
  "kernelspec": {
   "display_name": "Python 3 (ipykernel)",
   "language": "python",
   "name": "python3"
  },
  "language_info": {
   "codemirror_mode": {
    "name": "ipython",
    "version": 3
   },
   "file_extension": ".py",
   "mimetype": "text/x-python",
   "name": "python",
   "nbconvert_exporter": "python",
   "pygments_lexer": "ipython3",
   "version": "3.9.7"
  }
 },
 "nbformat": 4,
 "nbformat_minor": 5
}
