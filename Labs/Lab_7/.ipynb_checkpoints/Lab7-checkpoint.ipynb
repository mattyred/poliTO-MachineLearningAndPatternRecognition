{
 "cells": [
  {
   "cell_type": "markdown",
   "id": "2d2055e4-1836-4824-8ec0-12083572c11f",
   "metadata": {},
   "source": [
    "# Logistic Regression"
   ]
  },
  {
   "cell_type": "code",
   "execution_count": 405,
   "id": "caca8ecb-666e-4693-a772-f04f1f481537",
   "metadata": {},
   "outputs": [],
   "source": [
    "import numpy as np\n",
    "import scipy.optimize\n",
    "import scipy.special\n",
    "import sklearn.datasets\n",
    "import matplotlib.pyplot as plt\n",
    "from matplotlib.colors import ListedColormap\n",
    "def load_iris_binary():\n",
    "    D, L = sklearn.datasets.load_iris()['data'].T, sklearn.datasets.load_iris()['target']\n",
    "    D = D[:, L != 0] # remove setosa from D\n",
    "    L = L[L!=0] # remove setosa from L\n",
    "    L[L==2] = 0 # We assign label 0 to virginica (was label 2)\n",
    "    return D, L\n",
    "def load_iris():\n",
    "    D, L = sklearn.datasets.load_iris()['data'].T, sklearn.datasets.load_iris()['target']\n",
    "    return D, L"
   ]
  },
  {
   "cell_type": "markdown",
   "id": "81296454-225e-4a34-b904-8631f4351dd4",
   "metadata": {},
   "source": [
    "## Implementation of L-BFGS algorithm"
   ]
  },
  {
   "cell_type": "markdown",
   "id": "3cddea5d-f362-4117-b988-a7d33e945f55",
   "metadata": {},
   "source": [
    "I define an example function f(x)"
   ]
  },
  {
   "cell_type": "code",
   "execution_count": 406,
   "id": "d093c103-8e12-4d15-815b-c88f12bd0d2e",
   "metadata": {},
   "outputs": [],
   "source": [
    "def f(x):\n",
    "    y = x[0]\n",
    "    z = x[1]\n",
    "    return (y+3)**2 + np.sin(y) + (z+1)**2"
   ]
  },
  {
   "cell_type": "markdown",
   "id": "d785fe31-d635-4a2a-80ad-6d70335b3c8c",
   "metadata": {},
   "source": [
    "Now i call the funcion of scipy.optimize to apply the L-BFGS algorithm. With the parameter approx_grad=True i am saying that the gradient is automatically obtained through finite differences method"
   ]
  },
  {
   "cell_type": "code",
   "execution_count": 407,
   "id": "7c670eb9-67dd-462a-a403-684034acbfbb",
   "metadata": {},
   "outputs": [],
   "source": [
    "x, f, d = scipy.optimize.fmin_l_bfgs_b(func=f, x0=np.zeros(2), approx_grad = True, iprint = 0)"
   ]
  },
  {
   "cell_type": "code",
   "execution_count": 408,
   "id": "4d25fd79-a532-46f8-9773-c0335523e1fc",
   "metadata": {},
   "outputs": [
    {
     "name": "stdout",
     "output_type": "stream",
     "text": [
      "Point of minimum: [-2.57747138 -0.99999927]\n"
     ]
    }
   ],
   "source": [
    "print('Point of minimum: %s'%(x))"
   ]
  },
  {
   "cell_type": "code",
   "execution_count": 409,
   "id": "9bdec949-61dd-4662-be3b-a6116ebde5e1",
   "metadata": {},
   "outputs": [
    {
     "name": "stdout",
     "output_type": "stream",
     "text": [
      "Value of the minimum: -0.3561430123647649\n"
     ]
    }
   ],
   "source": [
    "print('Value of the minimum: %s'%(f))"
   ]
  },
  {
   "cell_type": "code",
   "execution_count": 410,
   "id": "3c5336f0-bf79-4946-a0d7-e5613f65e779",
   "metadata": {},
   "outputs": [
    {
     "name": "stdout",
     "output_type": "stream",
     "text": [
      "Number of iterations: 21\n"
     ]
    }
   ],
   "source": [
    "print('Number of iterations: %s'%(d['funcalls']))"
   ]
  },
  {
   "cell_type": "markdown",
   "id": "ff01a8c7-9646-4a5f-a5cb-9f66b4c93c8e",
   "metadata": {},
   "source": [
    "By passing an explicit approximation of the gradient:"
   ]
  },
  {
   "cell_type": "code",
   "execution_count": 411,
   "id": "b2454f25-3857-4e59-aa02-a6510e2a1870",
   "metadata": {},
   "outputs": [],
   "source": [
    "def f_grad(x):\n",
    "    y = x[0]\n",
    "    z = x[1]\n",
    "    grad_y = 2*(y+3) + np.cos(y)\n",
    "    grad_z = 2*(z+1)\n",
    "    val = (y+3)**2 + np.sin(y) + (z+1)**2\n",
    "    return val, np.array([grad_y,grad_z])"
   ]
  },
  {
   "cell_type": "code",
   "execution_count": 412,
   "id": "d59adc02-214d-46ee-9952-3f651b345d45",
   "metadata": {},
   "outputs": [],
   "source": [
    "x, f, d = scipy.optimize.fmin_l_bfgs_b(func=f_grad, x0=np.zeros(2), approx_grad = False, iprint = 0)"
   ]
  },
  {
   "cell_type": "code",
   "execution_count": 413,
   "id": "b23abf5d-f450-497b-b8e9-6588f55f959b",
   "metadata": {},
   "outputs": [
    {
     "name": "stdout",
     "output_type": "stream",
     "text": [
      "Point of minimum: [-2.57747137 -0.99999927]\n"
     ]
    }
   ],
   "source": [
    "print('Point of minimum: %s'%(x))"
   ]
  },
  {
   "cell_type": "code",
   "execution_count": 414,
   "id": "86ca805e-4f05-4760-87c3-acb4f21340c4",
   "metadata": {},
   "outputs": [
    {
     "name": "stdout",
     "output_type": "stream",
     "text": [
      "Value of the minimum: -0.3561430123647611\n"
     ]
    }
   ],
   "source": [
    "print('Value of the minimum: %s'%(f))"
   ]
  },
  {
   "cell_type": "code",
   "execution_count": 415,
   "id": "9fe12524-e575-4819-bf15-936b7771e8de",
   "metadata": {},
   "outputs": [
    {
     "name": "stdout",
     "output_type": "stream",
     "text": [
      "Number of iterations: 7\n"
     ]
    }
   ],
   "source": [
    "print('Number of iterations: %s'%(d['funcalls']))"
   ]
  },
  {
   "cell_type": "markdown",
   "id": "f3d1ddbe-8f81-4b5b-8455-84110a3b379a",
   "metadata": {},
   "source": [
    "With this method the algorithm only performs 7 iterations instead of 21 with the same result for minimum!"
   ]
  },
  {
   "cell_type": "markdown",
   "id": "cbd3c629-c47e-4e8a-84fb-6c77f81ecf63",
   "metadata": {},
   "source": [
    "## Binary Logistic Regression"
   ]
  },
  {
   "cell_type": "code",
   "execution_count": 416,
   "id": "9192fc07-cbd9-4234-af55-28f0b588aac5",
   "metadata": {},
   "outputs": [],
   "source": [
    "def split_db_2to1(D, L, seed=0):\n",
    "    nTrain = int(D.shape[1]*2.0/3.0) # 2/3 of the dataset D are used for training, 1/3 for validation\n",
    "    np.random.seed(seed)\n",
    "    idx = np.random.permutation(D.shape[1]) # take a random array of 150 elements, each element is 0<x<=149 (np.arange(150))\n",
    "    idxTrain = idx[0:nTrain] # first 100 are indices of training samples \n",
    "    idxTest = idx[nTrain:] # remaining 50 are indices of validation samples\n",
    "    DTR = D[:, idxTrain] # D for training\n",
    "    DTE = D[:, idxTest] # D for validation\n",
    "    LTR = L[idxTrain] # L for training\n",
    "    LTE = L[idxTest] # L for validation\n",
    "    return (DTR, LTR), (DTE, LTE)"
   ]
  },
  {
   "cell_type": "code",
   "execution_count": 417,
   "id": "717416db-ba67-486a-a94c-0f5a526b9325",
   "metadata": {},
   "outputs": [],
   "source": [
    "D, L = load_iris_binary()\n",
    "(DTR, LTR), (DTE, LTE) = split_db_2to1(D, L)"
   ]
  },
  {
   "cell_type": "markdown",
   "id": "9da8fc40-a11f-4322-9efe-ff45e0be8fbd",
   "metadata": {},
   "source": [
    "In the dataset there are only samples belonging to class virginica and versicolor"
   ]
  },
  {
   "cell_type": "markdown",
   "id": "bec64f2f-1f3b-462a-a5db-b262d45a2f6f",
   "metadata": {},
   "source": [
    "We want to optimize the function $J(w,b) = \\frac{\\lambda}{2}||w||^2 + \\frac{1}{n}\\sum_{i=1}^{n} log(1+e^{-z_i (w^T x_i + b)})$ with \n",
    " $ z_i =\n",
    "  \\begin{cases}\n",
    "    1       & \\quad \\text{if } c_i = 1 \\\\\n",
    "    -1  & \\quad \\text{if } c_i = 0\n",
    "  \\end{cases}\n",
    " $"
   ]
  },
  {
   "cell_type": "code",
   "execution_count": 418,
   "id": "2f7c4bd1-f505-4da2-8b65-164da47472c1",
   "metadata": {},
   "outputs": [],
   "source": [
    "class logRegClass:\n",
    "    def __init__(self, DTR, LTR, l):\n",
    "        self.DTR = DTR\n",
    "        self.LTR = LTR\n",
    "        self.l = l\n",
    "        self.D = DTR.shape[0] # dimensionality of features space\n",
    "        self.K = len(set(LTR)) # number of classes\n",
    "        self.N = DTR.shape[1]\n",
    "        \n",
    "    def __compute_zi(self, ci):\n",
    "        return 2*ci-1\n",
    "    \n",
    "    def __compute_T(self):\n",
    "        T = np.zeros(shape=(self.K,self.N))\n",
    "        for i in range(DTR.shape[1]):\n",
    "            label_xi = self.LTR[i]\n",
    "            t = []\n",
    "            for j in range(3):\n",
    "                if j==label_xi:\n",
    "                    t.append(1)\n",
    "                else:\n",
    "                    t.append(0)\n",
    "            T[:,i] = t\n",
    "        return T\n",
    "            \n",
    "    \n",
    "    def logreg_obj(self, v): # still works if DTR is one sample only? yes but it must be of shape (4,1)\n",
    "        w, b = v[0:-1], v[-1]\n",
    "        J = l/2*(np.linalg.norm(w)**2)\n",
    "        summary = 0\n",
    "        for i in range(self.DTR.shape[1]):\n",
    "            xi = self.DTR[:,i:i+1]\n",
    "            ci = self.LTR[i]\n",
    "            zi = self.__compute_zi(ci)\n",
    "            summary += np.logaddexp(0,-zi*(np.dot(w.T,xi)+b))\n",
    "        J += (1/self.DTR.shape[1]) * summary\n",
    "        return J\n",
    "    def logreg_multiclass_obj(self, v):\n",
    "        W, b = v[0:D*K], v[D*K:] # W is an array of array w each of shape (D,1)\n",
    "        W = np.array(W).reshape(D,K)\n",
    "        b = np.array(b).reshape(K,1)\n",
    "        S = np.dot(W.T,self.DTR)+b\n",
    "        Ylog = S - scipy.special.logsumexp(S, axis=0).reshape(1,-1)\n",
    "        T = self.__compute_T()\n",
    "        J = self.l/2 * (W*W).sum() - 1/self.N * (T*Ylog).sum()\n",
    "        return J\n",
    "        \n",
    "        "
   ]
  },
  {
   "cell_type": "code",
   "execution_count": 419,
   "id": "7a11025f-6781-452a-823b-dc0c4a49aa39",
   "metadata": {},
   "outputs": [],
   "source": [
    "D = 4 # dimensionality of the feature space\n",
    "l = 1\n",
    "logRegObj = logRegClass(DTR, LTR, l)\n",
    "x, f, d = scipy.optimize.fmin_l_bfgs_b(func=logRegObj.logreg_obj, \n",
    "                                       x0=np.zeros(DTR.shape[0]+1), \n",
    "                                       approx_grad = True, \n",
    "                                       iprint = 0)"
   ]
  },
  {
   "cell_type": "code",
   "execution_count": 420,
   "id": "d28b298a-ecfa-4587-81d1-804dd7e5adf6",
   "metadata": {},
   "outputs": [
    {
     "name": "stdout",
     "output_type": "stream",
     "text": [
      "Point of minimum: [-0.11040235 -0.02898702 -0.24787125 -0.14950476  2.31094811]\n"
     ]
    }
   ],
   "source": [
    "print('Point of minimum: %s'%(x))"
   ]
  },
  {
   "cell_type": "code",
   "execution_count": 421,
   "id": "e418e126-0ecd-4ba6-b7cb-547c847d1496",
   "metadata": {},
   "outputs": [
    {
     "name": "stdout",
     "output_type": "stream",
     "text": [
      "Value of the minimum: [0.63164362]\n"
     ]
    }
   ],
   "source": [
    "print('Value of the minimum: %s'%(f))"
   ]
  },
  {
   "cell_type": "code",
   "execution_count": 422,
   "id": "fb3e5855-70a5-484f-9770-4b3ac3e67339",
   "metadata": {},
   "outputs": [
    {
     "name": "stdout",
     "output_type": "stream",
     "text": [
      "Number of iterations: 132\n"
     ]
    }
   ],
   "source": [
    "print('Number of iterations: %s'%(d['funcalls']))"
   ]
  },
  {
   "cell_type": "markdown",
   "id": "37042308-91c8-4302-9b8a-a986b48ce19d",
   "metadata": {},
   "source": [
    "Now we can compute the predictions according to the model parameters w,b that we have obtained:"
   ]
  },
  {
   "cell_type": "code",
   "execution_count": 423,
   "id": "8f497df8-681c-45d9-adfb-d384099d5cdd",
   "metadata": {},
   "outputs": [
    {
     "name": "stdout",
     "output_type": "stream",
     "text": [
      "Error rate with lambda=1.000000 is: 14.7%\n"
     ]
    }
   ],
   "source": [
    "w, b = x[0:-1], x[-1]\n",
    "S=np.zeros((DTE.shape[1]))\n",
    "for i in range(DTE.shape[1]):\n",
    "    xi = DTE[:,i:i+1]\n",
    "    s = np.dot(w.T,xi)+b\n",
    "    S[i] = s\n",
    "LP = S>0\n",
    "acc = sum(LP == LTE)/len(LTE)\n",
    "err = 1 - acc\n",
    "print('Error rate with lambda=%f is: %.1f%%'%(l,err*100))"
   ]
  },
  {
   "cell_type": "markdown",
   "id": "e439fae7-01ae-4e34-a921-1cf6ad4e9518",
   "metadata": {},
   "source": [
    "## Extra: plot the decision function of LR"
   ]
  },
  {
   "cell_type": "markdown",
   "id": "5aa37cab-9e32-432a-9ce5-11fec71dbc5f",
   "metadata": {},
   "source": [
    "Firstly i train the LR on a 2-features dataset"
   ]
  },
  {
   "cell_type": "code",
   "execution_count": 424,
   "id": "a138dd55-8258-496c-8cbd-c413711683f2",
   "metadata": {},
   "outputs": [],
   "source": [
    "DTE_2f = DTE[0:2,:] # take only the first 2 features of. DTR, DTE\n",
    "DTR_2f = DTR[0:2, :]\n",
    "D = 4 \n",
    "l = 10**-6\n",
    "logRegObj = logRegClass(DTR_2f, LTR, l)\n",
    "x, f, d = scipy.optimize.fmin_l_bfgs_b(func=logRegObj.logreg_obj, \n",
    "                                       x0=np.zeros(DTR_2f.shape[0]+1), \n",
    "                                       approx_grad = True, \n",
    "                                       iprint = 0)\n",
    "w, b = x[0:-1], x[-1]\n",
    "S=np.zeros((DTE_2f.shape[1]))\n",
    "for i in range(DTE_2f.shape[1]):\n",
    "    xi = DTE_2f[:,i:i+1]\n",
    "    s = np.dot(w.T,xi)+b\n",
    "    S[i] = s\n",
    "LP = S>0"
   ]
  },
  {
   "cell_type": "markdown",
   "id": "5770711b-8c21-45ae-9faf-c56e8cf1b687",
   "metadata": {},
   "source": [
    "### First way: using `plt.contourf`"
   ]
  },
  {
   "cell_type": "markdown",
   "id": "57ae78e1-3b73-430e-b60b-ad37efa369a4",
   "metadata": {},
   "source": [
    "I have to build a huge test dataset using a meshgrid, then i use the function `plt.contourf` to obtain the plot of the decision function. The decision function is something that, given ($x_i$,$w$,$b$) returns a score $s_i$. Once that we have computed the score we have to choose a value as threshold $t$ so that: $w_i^{T}x_i + b \\gtrless t$. The value of is put to 0  to compute LP in the block above. We can pass different t values to the `contourf` function using the `levels` parameter."
   ]
  },
  {
   "cell_type": "code",
   "execution_count": 425,
   "id": "81154a2d-76fa-4d69-b6ec-85a4efdc04a8",
   "metadata": {},
   "outputs": [
    {
     "data": {
      "image/png": "[encoded data removed]",
      "text/plain": [
       "<Figure size 432x288 with 2 Axes>"
      ]
     },
     "metadata": {
      "needs_background": "light"
     },
     "output_type": "display_data"
    }
   ],
   "source": [
    "x_test, y_test = np.linspace(0,10,100),np.linspace(0,10,100)\n",
    "x_grid, y_grid = np.meshgrid(x_test, y_test, indexing='ij')\n",
    "x_g, y_g = x_grid.flatten(), y_grid.flatten()\n",
    "x_g, y_g = x_g.reshape((len(x_g), 1)), y_g.reshape((len(y_g), 1))\n",
    "grid = np.hstack((x_g, y_g)).T # big TEST dataset\n",
    "# Find scores for each generated sample\n",
    "S=np.zeros((grid.shape[1]))\n",
    "for i in range(grid.shape[1]):\n",
    "    xi = grid[:,i:i+1]\n",
    "    s = np.dot(w.T,xi)+b\n",
    "    S[i] = s\n",
    "surface=plt.contourf(x_grid, y_grid, S.reshape(x_grid.shape), alpha=0.8, levels=np.linspace(-1,1,10))\n",
    "plt.colorbar(surface)\n",
    "for class_value in range(2):\n",
    "    plt.scatter(DTE_2f[0, LTE==class_value], DTE_2f[1, LTE==class_value])\n",
    "# show the plot\n",
    "plt.show()"
   ]
  },
  {
   "cell_type": "markdown",
   "id": "4a902366-f36c-457b-a4a0-0d633ed1a586",
   "metadata": {},
   "source": [
    "### Second way: computing analytically the decision function"
   ]
  },
  {
   "cell_type": "markdown",
   "id": "d1829bbe-b5f7-4f1a-9c60-394fd6a526f3",
   "metadata": {},
   "source": [
    "From $w_i^{T}x_i + b = t$ we get (for a 2-features problem) $t = w_1x_1 + w_2x_2 +b$. The decision function is the line $x_2 = mx_1 + c$. With $t=0$ and, for example, $x_1=0$ we have $x_2 = c = -\\frac{b}{w_2}$. For the gradient $m$ we consider two points on the decision boundary: https://scipython.com/blog/plotting-the-decision-boundary-of-a-logistic-regression-model/"
   ]
  },
  {
   "cell_type": "code",
   "execution_count": 426,
   "id": "8eea6cbe-71ff-4092-afb2-54162e38dcc6",
   "metadata": {},
   "outputs": [
    {
     "data": {
      "image/png": "[encoded data removed]",
      "text/plain": [
       "<Figure size 432x288 with 1 Axes>"
      ]
     },
     "metadata": {
      "needs_background": "light"
     },
     "output_type": "display_data"
    }
   ],
   "source": [
    "t = 0\n",
    "c = (t-b)/w[1]\n",
    "m = -w[0]/w[1]\n",
    "# Plot the data and the classification with the decision boundary.\n",
    "xmin, xmax = 0, 10\n",
    "ymin, ymax = 0, 10\n",
    "xd = np.array([xmin, xmax])\n",
    "yd = m*xd + c\n",
    "plt.xlim(xmin, xmax)\n",
    "plt.ylim(ymin, ymax)\n",
    "plt.plot(xd, yd, 'k', ls='--')\n",
    "plt.fill_between(xd, yd, ymin, color='tab:orange', alpha=0.2)\n",
    "plt.fill_between(xd, yd, ymax, color='tab:blue', alpha=0.2)\n",
    "for class_value in range(2):\n",
    "    plt.scatter(DTE_2f[0, LTE==class_value], DTE_2f[1, LTE==class_value])"
   ]
  },
  {
   "cell_type": "markdown",
   "id": "18b11457-d765-4c8e-b311-11377a710738",
   "metadata": {},
   "source": [
    "## Multiclass Logistic Regression"
   ]
  },
  {
   "cell_type": "markdown",
   "id": "78b5890d-c458-4225-ac60-0ac914844013",
   "metadata": {},
   "source": [
    "Load the complete iris dataset (with samples belonging to classes 0,1,2)"
   ]
  },
  {
   "cell_type": "code",
   "execution_count": 427,
   "id": "b4b2779d-110e-4974-972d-5ec975434ea1",
   "metadata": {},
   "outputs": [],
   "source": [
    "D, L = load_iris()\n",
    "(DTR, LTR), (DTE, LTE) = split_db_2to1(D, L)"
   ]
  },
  {
   "cell_type": "markdown",
   "id": "d2a600bd-6192-46b6-a00d-bd29b5a390cd",
   "metadata": {},
   "source": [
    "Compute matrix of scores S where each column corresponds to the scores of sample $x_i$ for each classes. (Shape of S is (K,n))"
   ]
  },
  {
   "cell_type": "markdown",
   "id": "6fc95100-fabf-4a48-a05e-49da4db1b14f",
   "metadata": {},
   "source": [
    "First compute the model parameters $W=[w_1,...,w_K]$ and b = $\\begin{bmatrix}\n",
    "           b_1 \\\\\n",
    "           \\vdots \\\\\n",
    "           b_K\n",
    "         \\end{bmatrix}$"
   ]
  },
  {
   "cell_type": "code",
   "execution_count": 428,
   "id": "3d8af017-7bb1-4491-a6c9-c6b92b41253c",
   "metadata": {},
   "outputs": [],
   "source": [
    "### Lambda ###\n",
    "l = 10**-1\n",
    "##############\n",
    "D=4\n",
    "K=3\n",
    "logRegObj = logRegClass(DTR, LTR, l)\n",
    "# logRegObj.logreg_multiclass_obj(np.zeros(D*K+K))\n",
    "x, f, d = scipy.optimize.fmin_l_bfgs_b(func=logRegObj.logreg_multiclass_obj, \n",
    "                                       x0=np.zeros(D*K+K), \n",
    "                                       approx_grad = True, \n",
    "                                       iprint = 0)"
   ]
  },
  {
   "cell_type": "code",
   "execution_count": 429,
   "id": "d2a8d4de-7d99-44b6-a700-68546f44af75",
   "metadata": {},
   "outputs": [
    {
     "name": "stdout",
     "output_type": "stream",
     "text": [
      "Point of minimum (W and b): [-0.26848886  0.04430232  0.22418597  0.28220245 -0.2456176  -0.03658485\n",
      " -0.99553462  0.08006386  0.91547054 -0.41328434 -0.16338961  0.57667411\n",
      "  4.5322137   1.15688128 -5.68908753]\n"
     ]
    }
   ],
   "source": [
    "print('Point of minimum (W and b): %s'%(x))"
   ]
  },
  {
   "cell_type": "code",
   "execution_count": 430,
   "id": "ad3c186b-1c35-481b-9ce8-2ade45e8cdbd",
   "metadata": {},
   "outputs": [
    {
     "name": "stdout",
     "output_type": "stream",
     "text": [
      "Value of the minimum: 0.5005906138031373\n"
     ]
    }
   ],
   "source": [
    "print('Value of the minimum: %s'%(f))"
   ]
  },
  {
   "cell_type": "code",
   "execution_count": 431,
   "id": "23437d4b-9940-41d7-82b2-4f29366434c5",
   "metadata": {},
   "outputs": [
    {
     "name": "stdout",
     "output_type": "stream",
     "text": [
      "Number of iterations: 1104\n"
     ]
    }
   ],
   "source": [
    "print('Number of iterations: %s'%(d['funcalls']))"
   ]
  },
  {
   "cell_type": "code",
   "execution_count": 432,
   "id": "61b45d6a-220f-4399-ae58-85a0efaa0d6e",
   "metadata": {},
   "outputs": [
    {
     "name": "stdout",
     "output_type": "stream",
     "text": [
      "Error rate with lambda=0.100000 is: 6.0%\n"
     ]
    }
   ],
   "source": [
    "Ntest = DTE.shape[1]\n",
    "SPost = np.zeros(shape=(K,Ntest))\n",
    "W, b = x[0:D*K], x[D*K:]\n",
    "W = np.array(W).reshape(D,K)\n",
    "b = np.array(b).reshape(K,1)\n",
    "for i in range(Ntest): # for each test sample\n",
    "    xi = DTE[:,i:i+1]    \n",
    "    for j in range(K): # for each class\n",
    "        wc, bc = W[:,j], b[j,:]\n",
    "        SPost[j,i] = np.dot(wc.T,xi)+bc\n",
    "\n",
    "LP = np.argmax(SPost,axis=0)\n",
    "acc = sum(LP == LTE)/len(LTE)\n",
    "err = 1 - acc\n",
    "print('Error rate with lambda=%f is: %.1f%%'%(l,err*100))"
   ]
  }
 ],
 "metadata": {
  "kernelspec": {
   "display_name": "Python 3 (ipykernel)",
   "language": "python",
   "name": "python3"
  },
  "language_info": {
   "codemirror_mode": {
    "name": "ipython",
    "version": 3
   },
   "file_extension": ".py",
   "mimetype": "text/x-python",
   "name": "python",
   "nbconvert_exporter": "python",
   "pygments_lexer": "ipython3",
   "version": "3.9.7"
  }
 },
 "nbformat": 4,
 "nbformat_minor": 5
}
