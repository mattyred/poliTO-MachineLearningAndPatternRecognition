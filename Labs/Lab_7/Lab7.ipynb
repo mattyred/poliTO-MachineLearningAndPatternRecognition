{
 "cells": [
  {
   "cell_type": "markdown",
   "id": "2d2055e4-1836-4824-8ec0-12083572c11f",
   "metadata": {},
   "source": [
    "# Logistic Regression"
   ]
  },
  {
   "cell_type": "code",
   "execution_count": 12,
   "id": "caca8ecb-666e-4693-a772-f04f1f481537",
   "metadata": {},
   "outputs": [],
   "source": [
    "import numpy as np\n",
    "import scipy.optimize"
   ]
  },
  {
   "cell_type": "markdown",
   "id": "81296454-225e-4a34-b904-8631f4351dd4",
   "metadata": {},
   "source": [
    "## Implementation of L-BFGS algorithm"
   ]
  },
  {
   "cell_type": "markdown",
   "id": "3cddea5d-f362-4117-b988-a7d33e945f55",
   "metadata": {},
   "source": [
    "I define an example function f(x)"
   ]
  },
  {
   "cell_type": "code",
   "execution_count": 92,
   "id": "d093c103-8e12-4d15-815b-c88f12bd0d2e",
   "metadata": {},
   "outputs": [],
   "source": [
    "def f(x):\n",
    "    y = x[0]\n",
    "    z = x[1]\n",
    "    return (y+3)**2 + np.sin(y) + (z+1)**2"
   ]
  },
  {
   "cell_type": "markdown",
   "id": "d785fe31-d635-4a2a-80ad-6d70335b3c8c",
   "metadata": {},
   "source": [
    "Now i call the funcion of scipy.optimize to apply the L-BFGS algorithm. With the parameter approx_grad=True i am saying that the gradient is automatically obtained through finite differences method"
   ]
  },
  {
   "cell_type": "code",
   "execution_count": 93,
   "id": "7c670eb9-67dd-462a-a403-684034acbfbb",
   "metadata": {},
   "outputs": [],
   "source": [
    "x, f, d = scipy.optimize.fmin_l_bfgs_b(func=f, x0=np.zeros(2), approx_grad = True, iprint = 0)"
   ]
  },
  {
   "cell_type": "code",
   "execution_count": 94,
   "id": "4d25fd79-a532-46f8-9773-c0335523e1fc",
   "metadata": {},
   "outputs": [
    {
     "name": "stdout",
     "output_type": "stream",
     "text": [
      "Point of minimum: [-2.57747138 -0.99999927]\n"
     ]
    }
   ],
   "source": [
    "print('Point of minimum: %s'%(x))"
   ]
  },
  {
   "cell_type": "code",
   "execution_count": 95,
   "id": "9bdec949-61dd-4662-be3b-a6116ebde5e1",
   "metadata": {},
   "outputs": [
    {
     "name": "stdout",
     "output_type": "stream",
     "text": [
      "Value of the minimum: -0.3561430123647649\n"
     ]
    }
   ],
   "source": [
    "print('Value of the minimum: %s'%(f))"
   ]
  },
  {
   "cell_type": "code",
   "execution_count": 96,
   "id": "3c5336f0-bf79-4946-a0d7-e5613f65e779",
   "metadata": {},
   "outputs": [
    {
     "name": "stdout",
     "output_type": "stream",
     "text": [
      "Number of iterations: 21\n"
     ]
    }
   ],
   "source": [
    "print('Number of iterations: %s'%(d['funcalls']))"
   ]
  },
  {
   "cell_type": "markdown",
   "id": "ff01a8c7-9646-4a5f-a5cb-9f66b4c93c8e",
   "metadata": {},
   "source": [
    "By passing an explicit approximation of the gradient:"
   ]
  },
  {
   "cell_type": "code",
   "execution_count": 97,
   "id": "b2454f25-3857-4e59-aa02-a6510e2a1870",
   "metadata": {},
   "outputs": [],
   "source": [
    "def f_grad(x):\n",
    "    y = x[0]\n",
    "    z = x[1]\n",
    "    grad_y = 2*(y+3) + np.cos(y)\n",
    "    grad_z = 2*(z+1)\n",
    "    val = (y+3)**2 + np.sin(y) + (z+1)**2\n",
    "    return val, np.array([grad_y,grad_z])"
   ]
  },
  {
   "cell_type": "code",
   "execution_count": 98,
   "id": "d59adc02-214d-46ee-9952-3f651b345d45",
   "metadata": {},
   "outputs": [],
   "source": [
    "x, f, d = scipy.optimize.fmin_l_bfgs_b(func=f_grad, x0=np.zeros(2), approx_grad = False, iprint = 0)"
   ]
  },
  {
   "cell_type": "code",
   "execution_count": 99,
   "id": "b23abf5d-f450-497b-b8e9-6588f55f959b",
   "metadata": {},
   "outputs": [
    {
     "name": "stdout",
     "output_type": "stream",
     "text": [
      "Point of minimum: [-2.57747137 -0.99999927]\n"
     ]
    }
   ],
   "source": [
    "print('Point of minimum: %s'%(x))"
   ]
  },
  {
   "cell_type": "code",
   "execution_count": 100,
   "id": "86ca805e-4f05-4760-87c3-acb4f21340c4",
   "metadata": {},
   "outputs": [
    {
     "name": "stdout",
     "output_type": "stream",
     "text": [
      "Value of the minimum: -0.3561430123647611\n"
     ]
    }
   ],
   "source": [
    "print('Value of the minimum: %s'%(f))"
   ]
  },
  {
   "cell_type": "code",
   "execution_count": 101,
   "id": "9fe12524-e575-4819-bf15-936b7771e8de",
   "metadata": {},
   "outputs": [
    {
     "name": "stdout",
     "output_type": "stream",
     "text": [
      "Number of iterations: 7\n"
     ]
    }
   ],
   "source": [
    "print('Number of iterations: %s'%(d['funcalls']))"
   ]
  },
  {
   "cell_type": "markdown",
   "id": "f3d1ddbe-8f81-4b5b-8455-84110a3b379a",
   "metadata": {},
   "source": [
    "With this method the algorithm only performs 7 iterations instead of 21 with the same result for minimum!"
   ]
  },
  {
   "cell_type": "markdown",
   "id": "cbd3c629-c47e-4e8a-84fb-6c77f81ecf63",
   "metadata": {},
   "source": [
    "## Binary Logistic Regression"
   ]
  },
  {
   "cell_type": "code",
   "execution_count": null,
   "id": "9192fc07-cbd9-4234-af55-28f0b588aac5",
   "metadata": {},
   "outputs": [],
   "source": []
  },
  {
   "cell_type": "code",
   "execution_count": null,
   "id": "717416db-ba67-486a-a94c-0f5a526b9325",
   "metadata": {},
   "outputs": [],
   "source": []
  }
 ],
 "metadata": {
  "kernelspec": {
   "display_name": "Python 3 (ipykernel)",
   "language": "python",
   "name": "python3"
  },
  "language_info": {
   "codemirror_mode": {
    "name": "ipython",
    "version": 3
   },
   "file_extension": ".py",
   "mimetype": "text/x-python",
   "name": "python",
   "nbconvert_exporter": "python",
   "pygments_lexer": "ipython3",
   "version": "3.9.7"
  }
 },
 "nbformat": 4,
 "nbformat_minor": 5
}
