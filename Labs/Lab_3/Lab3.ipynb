{
 "cells": [
  {
   "cell_type": "markdown",
   "id": "cb8aac55-266a-424e-9d22-801e40858a10",
   "metadata": {},
   "source": [
    "# Laboratory 3"
   ]
  },
  {
   "cell_type": "code",
   "execution_count": 30,
   "id": "72ca0af3-e0d4-4aff-afc1-45753927d807",
   "metadata": {},
   "outputs": [],
   "source": [
    "import sklearn.datasets\n",
    "import numpy as np\n",
    "def load():\n",
    "    return sklearn.datasets.load_iris()['data'].T, sklearn.datasets.load_iris()['target']\n",
    "\n",
    "def to_col(row):\n",
    "    return row.reshape(row.size, 1)"
   ]
  },
  {
   "cell_type": "code",
   "execution_count": 5,
   "id": "d7434111-b372-4ad1-bf04-eeb33ae48b37",
   "metadata": {},
   "outputs": [],
   "source": [
    "D,labels = load() # load dataset and labels"
   ]
  },
  {
   "cell_type": "code",
   "execution_count": 7,
   "id": "3d2c3599-1e89-4b6f-b356-5de1cc603f2a",
   "metadata": {},
   "outputs": [
    {
     "data": {
      "text/plain": [
       "3.4644999999999997"
      ]
     },
     "execution_count": 7,
     "metadata": {},
     "output_type": "execute_result"
    }
   ],
   "source": [
    "mu = D.mean() # mean of all the elements of the dataset, sum of D[i,j]/D.size\n",
    "mu"
   ]
  },
  {
   "cell_type": "code",
   "execution_count": 26,
   "id": "ebdb7424-4075-4705-b576-55669a45672b",
   "metadata": {},
   "outputs": [
    {
     "data": {
      "text/plain": [
       "array([[5.84333333],\n",
       "       [3.05733333],\n",
       "       [3.758     ],\n",
       "       [1.19933333]])"
      ]
     },
     "execution_count": 26,
     "metadata": {},
     "output_type": "execute_result"
    }
   ],
   "source": [
    "mu = D.mean(axis=1) # mean of all the columns of the dataset\n",
    "# it is a row vector, i have to reshape it to a column vector\n",
    "mu = to_col(mu)\n",
    "mu"
   ]
  },
  {
   "cell_type": "code",
   "execution_count": 45,
   "id": "bfdb5f4c-ed29-4d5d-b3b9-1e3b304b4b8c",
   "metadata": {},
   "outputs": [
    {
     "name": "stdout",
     "output_type": "stream",
     "text": [
      "C =  [[ 0.68112222 -0.04215111  1.26582     0.51282889]\n",
      " [-0.04215111  0.18871289 -0.32745867 -0.12082844]\n",
      " [ 1.26582    -0.32745867  3.09550267  1.286972  ]\n",
      " [ 0.51282889 -0.12082844  1.286972    0.57713289]]\n",
      "mu =  [[5.84333333]\n",
      " [3.05733333]\n",
      " [3.758     ]\n",
      " [1.19933333]]\n"
     ]
    }
   ],
   "source": [
    "D_centered = D - mu\n",
    "N = np.shape(D)[1] #150\n",
    "C = 1/N * np.dot(D_centered, D_centered.T)\n",
    "print('C = ',C)\n",
    "print('mu = ',mu)"
   ]
  },
  {
   "cell_type": "code",
   "execution_count": 49,
   "id": "939a89b0-ec33-42f6-8a99-23ec02bf4dfc",
   "metadata": {},
   "outputs": [
    {
     "name": "stdout",
     "output_type": "stream",
     "text": [
      "s =  [0.02367619 0.0776881  0.24105294 4.20005343]\n",
      "U =  [[ 0.31548719  0.58202985  0.65658877 -0.36138659]\n",
      " [-0.3197231  -0.59791083  0.73016143  0.08452251]\n",
      " [-0.47983899 -0.07623608 -0.17337266 -0.85667061]\n",
      " [ 0.75365743 -0.54583143 -0.07548102 -0.3582892 ]]\n"
     ]
    }
   ],
   "source": [
    "s, U = np.linalg.eigh(C) # compute eigenvalues and eigenvectors of C\n",
    "print('s = ',s) # s are sorted from the smallest to the largest\n",
    "print('U = ',U) # U is made by row vectors that are the eigenvectors of C"
   ]
  },
  {
   "cell_type": "code",
   "execution_count": 54,
   "id": "d2699cd5-bab6-4306-a500-920db53787e4",
   "metadata": {},
   "outputs": [
    {
     "data": {
      "text/plain": [
       "array([[-0.36138659,  0.65658877],\n",
       "       [ 0.08452251,  0.73016143],\n",
       "       [-0.85667061, -0.17337266],\n",
       "       [-0.3582892 , -0.07548102]])"
      ]
     },
     "execution_count": 54,
     "metadata": {},
     "output_type": "execute_result"
    }
   ],
   "source": [
    "P1 = U[:, ::-1] #[:, 0:m]\n",
    "m=2\n",
    "P1[:, 0:m]"
   ]
  },
  {
   "cell_type": "code",
   "execution_count": 55,
   "id": "f416925b-9bed-4e5a-9c27-c92334203083",
   "metadata": {},
   "outputs": [
    {
     "data": {
      "text/plain": [
       "150"
      ]
     },
     "execution_count": 55,
     "metadata": {},
     "output_type": "execute_result"
    }
   ],
   "source": [
    "N"
   ]
  },
  {
   "cell_type": "code",
   "execution_count": null,
   "id": "6584d137-1af1-4ea2-ba79-3d1c57c8a806",
   "metadata": {},
   "outputs": [],
   "source": []
  }
 ],
 "metadata": {
  "kernelspec": {
   "display_name": "Python 3 (ipykernel)",
   "language": "python",
   "name": "python3"
  },
  "language_info": {
   "codemirror_mode": {
    "name": "ipython",
    "version": 3
   },
   "file_extension": ".py",
   "mimetype": "text/x-python",
   "name": "python",
   "nbconvert_exporter": "python",
   "pygments_lexer": "ipython3",
   "version": "3.9.7"
  }
 },
 "nbformat": 4,
 "nbformat_minor": 5
}
