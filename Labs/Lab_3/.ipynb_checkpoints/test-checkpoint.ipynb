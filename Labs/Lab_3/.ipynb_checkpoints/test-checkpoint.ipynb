{
 "cells": [
  {
   "cell_type": "markdown",
   "id": "f881d91e-4cbc-4af6-aa62-a5cf58d66fcf",
   "metadata": {},
   "source": [
    "# Example of PCA on a set of random 2-D points"
   ]
  },
  {
   "cell_type": "markdown",
   "id": "2151e08c-3ce4-4f10-93fc-626cbb4879bc",
   "metadata": {},
   "source": [
    "It is given a dataset of random points in a 2-D space. Each point is represented by a column vector of 2 elements (x,y). I consider a dataset of 10 points."
   ]
  },
  {
   "cell_type": "code",
   "execution_count": 114,
   "id": "e79c09f1-df14-45b1-8b40-fc86d6f8ec4a",
   "metadata": {},
   "outputs": [
    {
     "data": {
      "text/plain": [
       "Text(0, 0.5, 'y')"
      ]
     },
     "execution_count": 114,
     "metadata": {},
     "output_type": "execute_result"
    },
    {
     "data": {
      "image/png": "[encoded data removed]",
      "text/plain": [
       "<Figure size 432x288 with 1 Axes>"
      ]
     },
     "metadata": {
      "needs_background": "light"
     },
     "output_type": "display_data"
    }
   ],
   "source": [
    "import numpy as np\n",
    "import matplotlib.pyplot as plt\n",
    "X = np.random.rand(2,10)\n",
    "plt.figure()\n",
    "plt.scatter(X[0,:],X[1,:])\n",
    "plt.xlabel('x')\n",
    "plt.ylabel('y')"
   ]
  },
  {
   "cell_type": "markdown",
   "id": "1a3c4183-9126-4974-ac4d-fbfd6118c0c4",
   "metadata": {},
   "source": [
    "Now we want to find P that minimized the average reconstruction error between each point and the same subspace P"
   ]
  },
  {
   "cell_type": "code",
   "execution_count": 115,
   "id": "1fa86d38-627c-4cb0-aa89-6388eab9c44b",
   "metadata": {},
   "outputs": [],
   "source": [
    "K = np.shape(X)[1] # number of points/samples"
   ]
  },
  {
   "cell_type": "markdown",
   "id": "43a3cc53-a926-4787-b78b-0a1dbab05835",
   "metadata": {},
   "source": [
    "We have to build the covariance matrix but before we have to **center** the dataset by subracting the mean. The mean can be seen as a 'representative point' of the dataset in fact its shape is (1,2)"
   ]
  },
  {
   "cell_type": "code",
   "execution_count": 116,
   "id": "495b8dc1-33e9-4dce-87e7-664c5145d514",
   "metadata": {},
   "outputs": [
    {
     "data": {
      "text/plain": [
       "array([[0.31119001],\n",
       "       [0.34054165]])"
      ]
     },
     "execution_count": 116,
     "metadata": {},
     "output_type": "execute_result"
    }
   ],
   "source": [
    "mu = X.mean(axis = 1).reshape((2,1))\n",
    "mu"
   ]
  },
  {
   "cell_type": "code",
   "execution_count": 117,
   "id": "c08ea596-16b0-41b5-bfb1-ea822e980c6a",
   "metadata": {},
   "outputs": [
    {
     "data": {
      "text/plain": [
       "<matplotlib.collections.PathCollection at 0x7fdc038ee1f0>"
      ]
     },
     "execution_count": 117,
     "metadata": {},
     "output_type": "execute_result"
    },
    {
     "data": {
      "image/png": "[encoded data removed]",
      "text/plain": [
       "<Figure size 432x288 with 1 Axes>"
      ]
     },
     "metadata": {
      "needs_background": "light"
     },
     "output_type": "display_data"
    }
   ],
   "source": [
    "plt.scatter(X[0,:],X[1,:], color='blue')\n",
    "plt.scatter(mu[0,:],mu[1,:], color='red')"
   ]
  },
  {
   "cell_type": "markdown",
   "id": "e598c80f-c271-4ed4-aae0-39f49b277eac",
   "metadata": {},
   "source": [
    "Now subtract the mean to the dataset X "
   ]
  },
  {
   "cell_type": "code",
   "execution_count": 118,
   "id": "38b1eaed-df76-441b-a3a3-fc05588e0dee",
   "metadata": {},
   "outputs": [
    {
     "data": {
      "text/plain": [
       "<matplotlib.legend.Legend at 0x7fdc039e72e0>"
      ]
     },
     "execution_count": 118,
     "metadata": {},
     "output_type": "execute_result"
    },
    {
     "data": {
      "image/png": "[encoded data removed]",
      "text/plain": [
       "<Figure size 432x288 with 1 Axes>"
      ]
     },
     "metadata": {
      "needs_background": "light"
     },
     "output_type": "display_data"
    }
   ],
   "source": [
    "Xc = X - mu # X centered\n",
    "plt.scatter(X[0,:],X[1,:], color='blue', label='X')\n",
    "plt.scatter(Xc[0,:],Xc[1,:], color='green', label='Xc')\n",
    "plt.legend()"
   ]
  },
  {
   "cell_type": "markdown",
   "id": "aa1aabf6-29fe-474c-b41a-271ade88aee6",
   "metadata": {},
   "source": [
    "Now we can compute the covariance matrix C"
   ]
  },
  {
   "cell_type": "code",
   "execution_count": 119,
   "id": "e5403663-b20c-4325-9293-0e2ba0449b0d",
   "metadata": {},
   "outputs": [
    {
     "data": {
      "text/plain": [
       "array([[ 0.07019836, -0.02157352],\n",
       "       [-0.02157352,  0.05815507]])"
      ]
     },
     "execution_count": 119,
     "metadata": {},
     "output_type": "execute_result"
    }
   ],
   "source": [
    "C = 1/K * np.dot(Xc,Xc.T)\n",
    "C"
   ]
  },
  {
   "cell_type": "markdown",
   "id": "5cf37c91-5b5f-41f9-aa9a-7c1bfce57e73",
   "metadata": {},
   "source": [
    "With the eigenvalue decomposition of C we can find the matrix U of the eigenvectors of C"
   ]
  },
  {
   "cell_type": "code",
   "execution_count": 120,
   "id": "5f6fa006-9ba6-41c7-80c8-4dd971640892",
   "metadata": {},
   "outputs": [
    {
     "name": "stdout",
     "output_type": "stream",
     "text": [
      "Eigenvalues of C in ascending order: [0.04177856 0.08657486]\n",
      "Eigenvectors of C: [[-0.60462977 -0.79650665]\n",
      " [-0.79650665  0.60462977]]\n"
     ]
    }
   ],
   "source": [
    "sigma, U = np.linalg.eigh(C)\n",
    "print('Eigenvalues of C in ascending order: %s' % sigma)\n",
    "print('Eigenvectors of C: %s' % U)"
   ]
  },
  {
   "cell_type": "markdown",
   "id": "dcd96d17-0fdf-423e-ab39-215e4195a9b2",
   "metadata": {},
   "source": [
    "Now that we have computed the decomposition of C we can check that it is correct"
   ]
  },
  {
   "cell_type": "code",
   "execution_count": 121,
   "id": "5799b690-2843-46d8-9c7d-267be951f2b9",
   "metadata": {},
   "outputs": [
    {
     "data": {
      "text/plain": [
       "array([[ 0.07019836, -0.02157352],\n",
       "       [-0.02157352,  0.05815507]])"
      ]
     },
     "execution_count": 121,
     "metadata": {},
     "output_type": "execute_result"
    }
   ],
   "source": [
    "np.dot(np.dot(U,np.eye(2,2)*sigma), U.T) # must be equal to C"
   ]
  },
  {
   "cell_type": "markdown",
   "id": "3e93ea57-b80a-4fc5-940f-e6bce7e4e0e4",
   "metadata": {},
   "source": [
    "Once computed U, to obtain P it is sufficient to keep only the m eigenvectors correspondent to the highest m eigenvalues"
   ]
  },
  {
   "cell_type": "code",
   "execution_count": 122,
   "id": "5ae9f6ae-d4c0-45da-94a9-a6fd23969191",
   "metadata": {},
   "outputs": [],
   "source": [
    "m = 1"
   ]
  },
  {
   "cell_type": "code",
   "execution_count": 123,
   "id": "41b1ba61-c27c-4775-bda1-7eafe491cf5d",
   "metadata": {},
   "outputs": [],
   "source": [
    "U1 = U[:,::-1] # U but with the columns in revers order (the first column correspond to the max eigenvalue and so on)"
   ]
  },
  {
   "cell_type": "code",
   "execution_count": 124,
   "id": "6cdd62ce-8270-4cd6-b4d0-b570fe3cc74b",
   "metadata": {},
   "outputs": [
    {
     "data": {
      "text/plain": [
       "array([[-0.79650665],\n",
       "       [ 0.60462977]])"
      ]
     },
     "execution_count": 124,
     "metadata": {},
     "output_type": "execute_result"
    }
   ],
   "source": [
    "P = U1[:,0:m] # take the columns from 0 to m\n",
    "P"
   ]
  },
  {
   "cell_type": "markdown",
   "id": "ebdc6805-c94f-4494-9bcc-fc8a0ffbed18",
   "metadata": {},
   "source": [
    "Now i can project my centered dataset on P"
   ]
  },
  {
   "cell_type": "code",
   "execution_count": 125,
   "id": "ca95cce7-383d-4b13-9e06-a7ac0c7e1922",
   "metadata": {},
   "outputs": [],
   "source": [
    "y = np.dot(P.T, X)"
   ]
  },
  {
   "cell_type": "code",
   "execution_count": 126,
   "id": "34f884ad-fc84-423c-8a19-18f059df8052",
   "metadata": {},
   "outputs": [],
   "source": [
    "x_reconstruct = P*y + mu"
   ]
  },
  {
   "cell_type": "code",
   "execution_count": 127,
   "id": "4ec1c5d8-9a30-459d-89c4-6dc37bc10f93",
   "metadata": {},
   "outputs": [
    {
     "data": {
      "text/plain": [
       "<matplotlib.legend.Legend at 0x7fdc03ade6d0>"
      ]
     },
     "execution_count": 127,
     "metadata": {},
     "output_type": "execute_result"
    },
    {
     "data": {
      "image/png": "[encoded data removed]",
      "text/plain": [
       "<Figure size 432x288 with 1 Axes>"
      ]
     },
     "metadata": {
      "needs_background": "light"
     },
     "output_type": "display_data"
    }
   ],
   "source": [
    "plt.scatter(X[0,:],X[1,:], color='blue', label='X')\n",
    "plt.scatter(x_reconstruct[0,:],x_reconstruct[1,:], color = 'magenta', label = 'Xr')\n",
    "plt.legend()"
   ]
  }
 ],
 "metadata": {
  "kernelspec": {
   "display_name": "Python 3 (ipykernel)",
   "language": "python",
   "name": "python3"
  },
  "language_info": {
   "codemirror_mode": {
    "name": "ipython",
    "version": 3
   },
   "file_extension": ".py",
   "mimetype": "text/x-python",
   "name": "python",
   "nbconvert_exporter": "python",
   "pygments_lexer": "ipython3",
   "version": "3.9.7"
  }
 },
 "nbformat": 4,
 "nbformat_minor": 5
}
