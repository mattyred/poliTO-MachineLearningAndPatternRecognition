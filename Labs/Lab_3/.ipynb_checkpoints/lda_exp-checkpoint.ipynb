{
 "cells": [
  {
   "cell_type": "code",
   "execution_count": 208,
   "id": "ac2e858a-4cf8-43d8-9517-8c3da2114f4f",
   "metadata": {},
   "outputs": [],
   "source": [
    "import numpy as np\n",
    "import matplotlib.pyplot as plt\n",
    "import random"
   ]
  },
  {
   "cell_type": "code",
   "execution_count": 286,
   "id": "e83fee6a-583e-4665-8c13-ee6b72ea3d9f",
   "metadata": {},
   "outputs": [],
   "source": [
    "X = np.random.rand(2,100)\n",
    "#label =  np.array([random.randrange(0, 2) for _ in range(100)])\n",
    "label = []\n",
    "for i in range(100):\n",
    "    if X[0,i] < 0.5 or X[0,i] > 0.8:\n",
    "        label.append(0)\n",
    "    else:\n",
    "        label.append(1)\n",
    "label = np.array(label)   \n",
    "X0 = X[:,label==0]\n",
    "X1 = X[:,label==1]"
   ]
  },
  {
   "cell_type": "code",
   "execution_count": 287,
   "id": "3c4efb03-ed56-4deb-913c-1e39889a2e18",
   "metadata": {},
   "outputs": [
    {
     "data": {
      "text/plain": [
       "Text(0, 0.5, 'y')"
      ]
     },
     "execution_count": 287,
     "metadata": {},
     "output_type": "execute_result"
    },
    {
     "data": {
      "image/png": "[encoded data removed]",
      "text/plain": [
       "<Figure size 432x288 with 1 Axes>"
      ]
     },
     "metadata": {
      "needs_background": "light"
     },
     "output_type": "display_data"
    }
   ],
   "source": [
    "plt.scatter(X0[0,:],X0[1,:],color='b')\n",
    "plt.scatter(X1[0,:],X1[1,:],color='r')\n",
    "plt.xlabel('x')\n",
    "plt.ylabel('y')"
   ]
  },
  {
   "cell_type": "code",
   "execution_count": 289,
   "id": "d1ca06b9-f3d5-45f6-b467-3ff8efae1581",
   "metadata": {},
   "outputs": [],
   "source": [
    "PW = computePW(X,label) \n",
    "# PW is the linear transformation that makes\n",
    "# the matrix SW (computed for PW * X) an identity matrix(isotropic)"
   ]
  },
  {
   "cell_type": "code",
   "execution_count": 290,
   "id": "34e42735-7509-484f-8a56-8f4f0316470e",
   "metadata": {},
   "outputs": [],
   "source": [
    "def computeSW(D,labels):\n",
    "    N = np.shape(D)[1] # number of samples\n",
    "    Swc = 0\n",
    "    Sw = 0\n",
    "    nc = np.array([np.sum(labels==i) for i in set(labels)])\n",
    "    for i in set(labels):\n",
    "        c = D[:,labels == i] # in c there are all the samples of class i\n",
    "        mu_c = np.mean(c, axis=1).reshape(-1,1) # mean of samples of class i\n",
    "        c -= mu_c # center the samples of class i by subtracting the mean of the class\n",
    "        Swc = 1/nc[i] * np.dot(c, c.T) # inner summary\n",
    "        Sw += nc[i] * Swc # outer summary\n",
    "    Sw /= sum(nc)\n",
    "    return Sw"
   ]
  },
  {
   "cell_type": "code",
   "execution_count": 291,
   "id": "e57e60ed-c5bc-494a-a0c2-f5277e0e8855",
   "metadata": {},
   "outputs": [],
   "source": [
    "def computePW(X,label):\n",
    "    SW = computeSW(X,label)\n",
    "    U,s,_ = np.linalg.svd(SW)\n",
    "    sigma = 1/s**0.5\n",
    "    PW = np.dot(np.dot(U,np.diag(sigma)), U.T)\n",
    "    return PW"
   ]
  },
  {
   "cell_type": "code",
   "execution_count": 294,
   "id": "5f5a12a3-f3ae-489e-bb55-cb9948953508",
   "metadata": {},
   "outputs": [],
   "source": [
    "def computeW(X,label):\n",
    "    PW = computePW(X,label)\n",
    "    Sbt = np.dot(np.dot(PW,Sb),PW.T)\n",
    "    s, P2 = np.linalg.eigh(Sbt)\n",
    "    P2 = U[:, ::-1]\n",
    "    W = np.dot(PW.T,P2)\n",
    "    return W"
   ]
  },
  {
   "cell_type": "code",
   "execution_count": 295,
   "id": "373576cf-9b62-4849-8bc7-76460c063e07",
   "metadata": {},
   "outputs": [
    {
     "ename": "NameError",
     "evalue": "name 'Sb' is not defined",
     "output_type": "error",
     "traceback": [
      "\u001b[0;31m---------------------------------------------------------------------------\u001b[0m",
      "\u001b[0;31mNameError\u001b[0m                                 Traceback (most recent call last)",
      "\u001b[0;32m/var/folders/48/1_svc68j0_b2js686ls_zqhh0000gn/T/ipykernel_3495/3281344300.py\u001b[0m in \u001b[0;36m<module>\u001b[0;34m\u001b[0m\n\u001b[0;32m----> 1\u001b[0;31m \u001b[0mW\u001b[0m \u001b[0;34m=\u001b[0m \u001b[0mcomputeW\u001b[0m\u001b[0;34m(\u001b[0m\u001b[0mX\u001b[0m\u001b[0;34m,\u001b[0m\u001b[0mlabel\u001b[0m\u001b[0;34m)\u001b[0m\u001b[0;34m\u001b[0m\u001b[0;34m\u001b[0m\u001b[0m\n\u001b[0m",
      "\u001b[0;32m/var/folders/48/1_svc68j0_b2js686ls_zqhh0000gn/T/ipykernel_3495/2898924706.py\u001b[0m in \u001b[0;36mcomputeW\u001b[0;34m(X, label)\u001b[0m\n\u001b[1;32m      1\u001b[0m \u001b[0;32mdef\u001b[0m \u001b[0mcomputeW\u001b[0m\u001b[0;34m(\u001b[0m\u001b[0mX\u001b[0m\u001b[0;34m,\u001b[0m\u001b[0mlabel\u001b[0m\u001b[0;34m)\u001b[0m\u001b[0;34m:\u001b[0m\u001b[0;34m\u001b[0m\u001b[0;34m\u001b[0m\u001b[0m\n\u001b[1;32m      2\u001b[0m     \u001b[0mPW\u001b[0m \u001b[0;34m=\u001b[0m \u001b[0mcomputePW\u001b[0m\u001b[0;34m(\u001b[0m\u001b[0mX\u001b[0m\u001b[0;34m,\u001b[0m\u001b[0mlabel\u001b[0m\u001b[0;34m)\u001b[0m\u001b[0;34m\u001b[0m\u001b[0;34m\u001b[0m\u001b[0m\n\u001b[0;32m----> 3\u001b[0;31m     \u001b[0mSbt\u001b[0m \u001b[0;34m=\u001b[0m \u001b[0mnp\u001b[0m\u001b[0;34m.\u001b[0m\u001b[0mdot\u001b[0m\u001b[0;34m(\u001b[0m\u001b[0mnp\u001b[0m\u001b[0;34m.\u001b[0m\u001b[0mdot\u001b[0m\u001b[0;34m(\u001b[0m\u001b[0mPW\u001b[0m\u001b[0;34m,\u001b[0m\u001b[0mSb\u001b[0m\u001b[0;34m)\u001b[0m\u001b[0;34m,\u001b[0m\u001b[0mPW\u001b[0m\u001b[0;34m.\u001b[0m\u001b[0mT\u001b[0m\u001b[0;34m)\u001b[0m\u001b[0;34m\u001b[0m\u001b[0;34m\u001b[0m\u001b[0m\n\u001b[0m\u001b[1;32m      4\u001b[0m     \u001b[0ms\u001b[0m\u001b[0;34m,\u001b[0m \u001b[0mP2\u001b[0m \u001b[0;34m=\u001b[0m \u001b[0mnp\u001b[0m\u001b[0;34m.\u001b[0m\u001b[0mlinalg\u001b[0m\u001b[0;34m.\u001b[0m\u001b[0meigh\u001b[0m\u001b[0;34m(\u001b[0m\u001b[0mSbt\u001b[0m\u001b[0;34m)\u001b[0m\u001b[0;34m\u001b[0m\u001b[0;34m\u001b[0m\u001b[0m\n\u001b[1;32m      5\u001b[0m     \u001b[0mP2\u001b[0m \u001b[0;34m=\u001b[0m \u001b[0mU\u001b[0m\u001b[0;34m[\u001b[0m\u001b[0;34m:\u001b[0m\u001b[0;34m,\u001b[0m \u001b[0;34m:\u001b[0m\u001b[0;34m:\u001b[0m\u001b[0;34m-\u001b[0m\u001b[0;36m1\u001b[0m\u001b[0;34m]\u001b[0m\u001b[0;34m\u001b[0m\u001b[0;34m\u001b[0m\u001b[0m\n",
      "\u001b[0;31mNameError\u001b[0m: name 'Sb' is not defined"
     ]
    }
   ],
   "source": [
    "W = computeW(X,label)"
   ]
  },
  {
   "cell_type": "code",
   "execution_count": null,
   "id": "dcf1ea99-41fd-4f43-b7df-978c2fa39b97",
   "metadata": {},
   "outputs": [],
   "source": []
  }
 ],
 "metadata": {
  "kernelspec": {
   "display_name": "Python 3 (ipykernel)",
   "language": "python",
   "name": "python3"
  },
  "language_info": {
   "codemirror_mode": {
    "name": "ipython",
    "version": 3
   },
   "file_extension": ".py",
   "mimetype": "text/x-python",
   "name": "python",
   "nbconvert_exporter": "python",
   "pygments_lexer": "ipython3",
   "version": "3.9.7"
  }
 },
 "nbformat": 4,
 "nbformat_minor": 5
}
