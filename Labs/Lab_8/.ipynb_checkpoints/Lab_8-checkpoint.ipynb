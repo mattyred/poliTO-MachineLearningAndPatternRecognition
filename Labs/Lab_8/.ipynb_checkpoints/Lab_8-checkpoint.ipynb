{
 "cells": [
  {
   "cell_type": "markdown",
   "id": "6d0777be-31d6-4419-9c01-82f2a5df2adf",
   "metadata": {},
   "source": [
    "# Laboratory 8 - Model Evaulation"
   ]
  },
  {
   "cell_type": "code",
   "execution_count": 1,
   "id": "300487a2-72a1-4ec3-bba8-36c68b4cf5a7",
   "metadata": {},
   "outputs": [],
   "source": [
    "import numpy as np\n",
    "import MVGClassifier\n",
    "import MVGTClassifier\n",
    "import sklearn.datasets\n",
    "def load_iris():\n",
    "    D, L = sklearn.datasets.load_iris()['data'].T, sklearn.datasets.load_iris()['target']\n",
    "    return D, L"
   ]
  },
  {
   "cell_type": "code",
   "execution_count": 2,
   "id": "ba1e6b01-c068-4b5b-9893-9eb599d86df4",
   "metadata": {},
   "outputs": [],
   "source": [
    "D, L = load_iris()\n",
    "def split_db_2to1(D, L, seed=0):\n",
    "    nTrain = int(D.shape[1]*2.0/3.0) # 2/3 of the dataset D are used for training, 1/3 for validation\n",
    "    np.random.seed(seed)\n",
    "    idx = np.random.permutation(D.shape[1]) # take a random array of 150 elements, each element is 0<x<=149 (np.arange(150))\n",
    "    idxTrain = idx[0:nTrain] # first 100 are indices of training samples \n",
    "    idxTest = idx[nTrain:] # remaining 50 are indices of validation samples\n",
    "    DTR = D[:, idxTrain] # D for training\n",
    "    DTE = D[:, idxTest] # D for validation\n",
    "    LTR = L[idxTrain] # L for training\n",
    "    LTE = L[idxTest] # L for validation\n",
    "    return (DTR, LTR), (DTE, LTE)\n",
    "(DTR, LTR), (DTE, LTE) = split_db_2to1(D, L)"
   ]
  },
  {
   "cell_type": "code",
   "execution_count": 3,
   "id": "81bbebde-b228-443c-b8ac-b001dc243271",
   "metadata": {},
   "outputs": [],
   "source": [
    "mvg_classifier = MVGClassifier.MVG(DTR, LTR)\n",
    "mvg_classifier.train()\n",
    "predicted_labels = mvg_classifier.test(DTE, LTE)\n",
    "conf_matrix = mvg_classifier.confusion_matrix(predicted_labels, LTE)"
   ]
  },
  {
   "cell_type": "code",
   "execution_count": 4,
   "id": "297a5c3c-be23-4aad-8991-adeeed95820e",
   "metadata": {},
   "outputs": [
    {
     "data": {
      "text/plain": [
       "array([[19.,  0.,  0.],\n",
       "       [ 0., 15.,  0.],\n",
       "       [ 0.,  2., 14.]])"
      ]
     },
     "execution_count": 4,
     "metadata": {},
     "output_type": "execute_result"
    }
   ],
   "source": [
    "conf_matrix"
   ]
  },
  {
   "cell_type": "code",
   "execution_count": 5,
   "id": "4e4e785e-b566-4be5-92d9-39aadfbc8759",
   "metadata": {},
   "outputs": [],
   "source": [
    "tied_classifier = MVGTClassifier.MVGT(DTR, LTR)"
   ]
  },
  {
   "cell_type": "code",
   "execution_count": 6,
   "id": "468471d7-c1be-40cb-89df-3715accc63ba",
   "metadata": {},
   "outputs": [],
   "source": [
    "tied_classifier.train()"
   ]
  },
  {
   "cell_type": "code",
   "execution_count": null,
   "id": "0617c684-be87-4cb2-be45-487a7837b46f",
   "metadata": {},
   "outputs": [],
   "source": []
  }
 ],
 "metadata": {
  "kernelspec": {
   "display_name": "Python 3 (ipykernel)",
   "language": "python",
   "name": "python3"
  },
  "language_info": {
   "codemirror_mode": {
    "name": "ipython",
    "version": 3
   },
   "file_extension": ".py",
   "mimetype": "text/x-python",
   "name": "python",
   "nbconvert_exporter": "python",
   "pygments_lexer": "ipython3",
   "version": "3.9.7"
  }
 },
 "nbformat": 4,
 "nbformat_minor": 5
}
