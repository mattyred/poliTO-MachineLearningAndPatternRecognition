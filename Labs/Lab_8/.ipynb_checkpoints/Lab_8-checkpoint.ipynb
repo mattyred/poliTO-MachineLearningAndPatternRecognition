{
 "cells": [
  {
   "cell_type": "markdown",
   "id": "6d0777be-31d6-4419-9c01-82f2a5df2adf",
   "metadata": {},
   "source": [
    "# Laboratory 8 - Model Evaulation"
   ]
  },
  {
   "cell_type": "code",
   "execution_count": 64,
   "id": "300487a2-72a1-4ec3-bba8-36c68b4cf5a7",
   "metadata": {},
   "outputs": [],
   "source": [
    "import numpy as np\n",
    "import MVGClassifier\n",
    "import MVGTClassifier\n",
    "import sklearn.datasets\n",
    "import matplotlib.pyplot as plt\n",
    "def load_iris():\n",
    "    D, L = sklearn.datasets.load_iris()['data'].T, sklearn.datasets.load_iris()['target']\n",
    "    return D, L"
   ]
  },
  {
   "cell_type": "markdown",
   "id": "a4323b27-3cff-4d02-8cdb-334234a52f4f",
   "metadata": {},
   "source": [
    "## Confusion matrix - IRIS dataset"
   ]
  },
  {
   "cell_type": "code",
   "execution_count": 65,
   "id": "ba1e6b01-c068-4b5b-9893-9eb599d86df4",
   "metadata": {},
   "outputs": [],
   "source": [
    "D, L = load_iris()\n",
    "def split_db_2to1(D, L, seed=0):\n",
    "    nTrain = int(D.shape[1]*2.0/3.0) # 2/3 of the dataset D are used for training, 1/3 for validation\n",
    "    np.random.seed(seed)\n",
    "    idx = np.random.permutation(D.shape[1]) # take a random array of 150 elements, each element is 0<x<=149 (np.arange(150))\n",
    "    idxTrain = idx[0:nTrain] # first 100 are indices of training samples \n",
    "    idxTest = idx[nTrain:] # remaining 50 are indices of validation samples\n",
    "    DTR = D[:, idxTrain] # D for training\n",
    "    DTE = D[:, idxTest] # D for validation\n",
    "    LTR = L[idxTrain] # L for training\n",
    "    LTE = L[idxTest] # L for validation\n",
    "    return (DTR, LTR), (DTE, LTE)\n",
    "(DTR, LTR), (DTE, LTE) = split_db_2to1(D, L)"
   ]
  },
  {
   "cell_type": "markdown",
   "id": "cf81a88a-b089-4ba4-a9e5-3066cdf184f3",
   "metadata": {},
   "source": [
    "## MVG classifier"
   ]
  },
  {
   "cell_type": "code",
   "execution_count": 66,
   "id": "81bbebde-b228-443c-b8ac-b001dc243271",
   "metadata": {},
   "outputs": [
    {
     "data": {
      "text/plain": [
       "array([[19.,  0.,  0.],\n",
       "       [ 0., 15.,  0.],\n",
       "       [ 0.,  2., 14.]])"
      ]
     },
     "execution_count": 66,
     "metadata": {},
     "output_type": "execute_result"
    }
   ],
   "source": [
    "mvg_classifier = MVGClassifier.MVG(DTR, LTR)\n",
    "mvg_classifier.train()\n",
    "predicted_labels = mvg_classifier.test(DTE, LTE)\n",
    "conf_matrix_MVG = mvg_classifier.confusion_matrix(predicted_labels, LTE)\n",
    "conf_matrix_MVG"
   ]
  },
  {
   "cell_type": "markdown",
   "id": "c64518d9-360c-453e-afe1-9c9a637b5ee3",
   "metadata": {},
   "source": [
    "## Tied Covariance classifier"
   ]
  },
  {
   "cell_type": "code",
   "execution_count": 67,
   "id": "4e4e785e-b566-4be5-92d9-39aadfbc8759",
   "metadata": {},
   "outputs": [
    {
     "data": {
      "text/plain": [
       "array([[19.,  0.,  0.],\n",
       "       [ 0., 16.,  0.],\n",
       "       [ 0.,  1., 14.]])"
      ]
     },
     "execution_count": 67,
     "metadata": {},
     "output_type": "execute_result"
    }
   ],
   "source": [
    "tied_classifier = MVGTClassifier.MVGT(DTR, LTR)\n",
    "tied_classifier.train()\n",
    "predicted_labels = tied_classifier.test(DTE, LTE)\n",
    "conf_matrix_MVGT = tied_classifier.confusion_matrix(predicted_labels, LTE)\n",
    "conf_matrix_MVGT"
   ]
  },
  {
   "cell_type": "markdown",
   "id": "a33ffa1a-0e76-472d-9038-b212d49e8e1d",
   "metadata": {},
   "source": [
    "## Divina Commedia classfier"
   ]
  },
  {
   "cell_type": "markdown",
   "id": "3e26dd20-ad17-4047-93ff-67e6f0e316e2",
   "metadata": {},
   "source": [
    "### Confusion matrix"
   ]
  },
  {
   "cell_type": "code",
   "execution_count": 68,
   "id": "d7725683-1cf2-4058-9fb9-9ede357ba709",
   "metadata": {},
   "outputs": [],
   "source": [
    "commedia_labels = np.load('Data/commedia_labels.npy')\n",
    "class_conditional_ll = np.load('Data/commedia_ll.npy')"
   ]
  },
  {
   "cell_type": "code",
   "execution_count": 69,
   "id": "ed747196-ea0e-4f96-b635-a1e190455257",
   "metadata": {},
   "outputs": [
    {
     "data": {
      "text/plain": [
       "array([[210., 113.,  61.],\n",
       "       [137., 191., 111.],\n",
       "       [ 53.,  98., 230.]])"
      ]
     },
     "execution_count": 69,
     "metadata": {},
     "output_type": "execute_result"
    }
   ],
   "source": [
    "predicted_labels = np.argmax(class_conditional_ll,axis=0)\n",
    "i = 0\n",
    "conf_matrix = np.zeros(shape=(3,3))\n",
    "for predicted_label in predicted_labels:\n",
    "    actual_label = commedia_labels[i] # class 0,1,2\n",
    "    if predicted_label == actual_label: # correct label\n",
    "        conf_matrix[predicted_label][predicted_label] += 1\n",
    "    else:\n",
    "        conf_matrix[predicted_label][actual_label] += 1\n",
    "    i+=1\n",
    "conf_matrix"
   ]
  },
  {
   "cell_type": "markdown",
   "id": "aed58a31-8eab-49ee-819f-9c641c17c94b",
   "metadata": {},
   "source": [
    "### Optimal Bayes Decision - binary task"
   ]
  },
  {
   "cell_type": "code",
   "execution_count": 70,
   "id": "8daa3a81-7e56-4dee-a1d1-6e3ccf5f79ce",
   "metadata": {},
   "outputs": [],
   "source": [
    "infpar_labels = np.load('Data/commedia_labels_infpar.npy')\n",
    "infpar_ll = np.load('Data/commedia_llr_infpar.npy')"
   ]
  },
  {
   "cell_type": "code",
   "execution_count": 71,
   "id": "1dfaec55-3e23-4d1d-b7aa-421ae7f7af0e",
   "metadata": {},
   "outputs": [],
   "source": [
    "def build_confusion_matrix(predicted_labels, actual_labels):\n",
    "    conf_matrix = np.zeros(shape=(2,2))\n",
    "    i = 0\n",
    "    for pl in predicted_labels:\n",
    "        if pl == actual_labels[i]:\n",
    "            conf_matrix[pl][pl] += 1\n",
    "        else:\n",
    "            conf_matrix[pl][actual_labels[i]] += 1\n",
    "        i += 1\n",
    "    return conf_matrix"
   ]
  },
  {
   "cell_type": "code",
   "execution_count": 75,
   "id": "8224ff9b-fbd3-4b17-915b-f69a4c843e1e",
   "metadata": {},
   "outputs": [],
   "source": [
    "def compute_optimalBayes_confusionMatrix(scores, actual_labels, pi1, Cfn, Cfp):\n",
    "    conf_matrix = np.zeros(shape=(2,2))\n",
    "    t = -np.log((pi1*Cfn)/((1-pi1)*Cfp))\n",
    "    predicted_labels = np.array(scores > t, dtype='int32')\n",
    "    return build_confusion_matrix(predicted_labels, actual_labels)"
   ]
  },
  {
   "cell_type": "code",
   "execution_count": 76,
   "id": "d916e296-64bf-4144-b7e3-16341b713319",
   "metadata": {},
   "outputs": [
    {
     "data": {
      "text/plain": [
       "array([[293.,  96.],\n",
       "       [109., 304.]])"
      ]
     },
     "execution_count": 76,
     "metadata": {},
     "output_type": "execute_result"
    }
   ],
   "source": [
    "pi1 = 0.5\n",
    "Cfn=1\n",
    "Cfp=1\n",
    "compute_optimalBayes_confusionMatrix(infpar_ll, infpar_labels, pi1,Cfn,Cfp)"
   ]
  },
  {
   "cell_type": "code",
   "execution_count": 77,
   "id": "0d60d21a-0f9e-4c99-a562-d597f048206d",
   "metadata": {},
   "outputs": [
    {
     "data": {
      "text/plain": [
       "array([[271.,  80.],\n",
       "       [131., 320.]])"
      ]
     },
     "execution_count": 77,
     "metadata": {},
     "output_type": "execute_result"
    }
   ],
   "source": [
    "pi1 = 0.8\n",
    "Cfn=1\n",
    "Cfp=1\n",
    "compute_optimalBayes_confusionMatrix(infpar_ll, infpar_labels, pi1,Cfn,Cfp)"
   ]
  },
  {
   "cell_type": "code",
   "execution_count": 78,
   "id": "4772b97d-29e7-4f73-87ca-1bcd4dfc09cd",
   "metadata": {},
   "outputs": [
    {
     "data": {
      "text/plain": [
       "array([[257.,  75.],\n",
       "       [145., 325.]])"
      ]
     },
     "execution_count": 78,
     "metadata": {},
     "output_type": "execute_result"
    }
   ],
   "source": [
    "pi1 = 0.5\n",
    "Cfn=10\n",
    "Cfp=1\n",
    "compute_optimalBayes_confusionMatrix(infpar_ll, infpar_labels, pi1,Cfn,Cfp)"
   ]
  },
  {
   "cell_type": "code",
   "execution_count": 79,
   "id": "d1162f7f-91d0-41af-acc1-dc86e568e00e",
   "metadata": {},
   "outputs": [
    {
     "data": {
      "text/plain": [
       "array([[302., 113.],\n",
       "       [100., 287.]])"
      ]
     },
     "execution_count": 79,
     "metadata": {},
     "output_type": "execute_result"
    }
   ],
   "source": [
    "pi1 = 0.8\n",
    "Cfn=1\n",
    "Cfp=10\n",
    "compute_optimalBayes_confusionMatrix(infpar_ll, infpar_labels, pi1,Cfn,Cfp)"
   ]
  },
  {
   "cell_type": "markdown",
   "id": "a9cb31a1-3214-44ad-b670-72df0591e7d0",
   "metadata": {},
   "source": [
    "## Binary tas: evaulation"
   ]
  },
  {
   "cell_type": "code",
   "execution_count": 80,
   "id": "fd95f952-5d72-43da-976a-f7d02e0b39b6",
   "metadata": {},
   "outputs": [],
   "source": [
    "def compute_DCF(scores, actual_labels, pi1, Cfn, Cfp):\n",
    "    M = compute_optimalBayes_confusionMatrix(scores, actual_labels, pi1,Cfn,Cfp)\n",
    "    fnr = M[0,1] / (M[0,1] + M[1,1])\n",
    "    fpr = M[1,0] / (M[0,0] + M[1,0])\n",
    "    return pi1 * Cfn * fnr + (1-pi1)*Cfp*fpr"
   ]
  },
  {
   "cell_type": "code",
   "execution_count": 81,
   "id": "60f879dc-c0ba-40d1-a636-35dec3d72f5f",
   "metadata": {},
   "outputs": [
    {
     "data": {
      "text/plain": [
       "0.25557213930348255"
      ]
     },
     "execution_count": 81,
     "metadata": {},
     "output_type": "execute_result"
    }
   ],
   "source": [
    "pi1 = 0.5\n",
    "Cfn=1\n",
    "Cfp=1\n",
    "compute_DCF(infpar_ll, infpar_labels, pi1, Cfn, Cfp)"
   ]
  },
  {
   "cell_type": "code",
   "execution_count": 82,
   "id": "35a814e4-d33a-4ddd-82c3-e119343624cc",
   "metadata": {},
   "outputs": [
    {
     "data": {
      "text/plain": [
       "1.1178482587064678"
      ]
     },
     "execution_count": 82,
     "metadata": {},
     "output_type": "execute_result"
    }
   ],
   "source": [
    "pi1 = 0.5\n",
    "Cfn=10\n",
    "Cfp=1\n",
    "compute_DCF(infpar_ll, infpar_labels, pi1, Cfn, Cfp)"
   ]
  },
  {
   "cell_type": "code",
   "execution_count": 83,
   "id": "24db130b-5d96-4c7f-8efa-abe076555590",
   "metadata": {},
   "outputs": [],
   "source": [
    "def compute_normalized_DCF(scores, actual_labels, pi1, Cfn, Cfp):\n",
    "    Bdummy = np.minimum(pi1*Cfn, (1-pi1)*Cfp)\n",
    "    return compute_DCF(scores, actual_labels, pi1, Cfn, Cfp) / Bdummy"
   ]
  },
  {
   "cell_type": "code",
   "execution_count": 84,
   "id": "58624bfe-6116-4ec2-92c7-e2e48d135178",
   "metadata": {},
   "outputs": [
    {
     "data": {
      "text/plain": [
       "0.5111442786069651"
      ]
     },
     "execution_count": 84,
     "metadata": {},
     "output_type": "execute_result"
    }
   ],
   "source": [
    "pi1 = 0.5\n",
    "Cfn=1\n",
    "Cfp=1\n",
    "compute_normalized_DCF(infpar_ll, infpar_labels, pi1, Cfn, Cfp)"
   ]
  },
  {
   "cell_type": "code",
   "execution_count": 49,
   "id": "f7754790-62bb-4b94-8cbe-be2acb710069",
   "metadata": {},
   "outputs": [
    {
     "data": {
      "text/plain": [
       "2.2356965174129355"
      ]
     },
     "execution_count": 85,
     "metadata": {},
     "output_type": "execute_result"
    }
   ],
   "source": [
    "pi1 = 0.5\n",
    "Cfn=10\n",
    "Cfp=1\n",
    "compute_normalized_DCF(infpar_ll, infpar_labels, pi1, Cfn, Cfp)"
   ]
  },
  {
   "cell_type": "markdown",
   "id": "3a0e7104-ac90-4132-9b69-ee42c419cdad",
   "metadata": {},
   "source": [
    "## Minimum detection cost"
   ]
  },
  {
   "cell_type": "code",
   "execution_count": 92,
   "id": "f2da02c9-7f25-4083-abdf-c554bba2decf",
   "metadata": {},
   "outputs": [],
   "source": [
    "def compute_min_DCF(scores, actual_labels, pi1, Cfn, Cfp):\n",
    "    scores_sort = np.sort(scores)\n",
    "    normDCFs = []\n",
    "    for i in scores_sort:\n",
    "        predicted_labels = np.where(scores > i+0.000001, 1, 0)\n",
    "        M = build_confusion_matrix(predicted_labels, actual_labels)\n",
    "        fnr = M[0,1] / (M[0,1] + M[1,1])\n",
    "        fpr = M[1,0] / (M[0,0] + M[1,0])\n",
    "        dcf = pi1 * Cfn * fnr + (1-pi1)*Cfp*fpr\n",
    "        Bdummy = np.minimum(pi1*Cfn, (1-pi1)*Cfp)\n",
    "        dcf_norm = dcf / Bdummy\n",
    "        normDCFs.append(dcf_norm)\n",
    "    return min(normDCFs)"
   ]
  },
  {
   "cell_type": "code",
   "execution_count": 93,
   "id": "e5d93d5b-9b8c-44db-b466-6adfaa8084a1",
   "metadata": {},
   "outputs": [
    {
     "data": {
      "text/plain": [
       "0.5061442786069652"
      ]
     },
     "execution_count": 93,
     "metadata": {},
     "output_type": "execute_result"
    }
   ],
   "source": [
    "pi1 = 0.5\n",
    "Cfn=1\n",
    "Cfp=1\n",
    "compute_min_DCF(infpar_ll, infpar_labels, pi1, Cfn, Cfp)"
   ]
  },
  {
   "cell_type": "code",
   "execution_count": 95,
   "id": "71db8f3d-4839-49fc-b432-ad12ca5b18b0",
   "metadata": {},
   "outputs": [
    {
     "data": {
      "text/plain": [
       "0.70931592039801"
      ]
     },
     "execution_count": 95,
     "metadata": {},
     "output_type": "execute_result"
    }
   ],
   "source": [
    "pi1 = 0.8\n",
    "Cfn=1\n",
    "Cfp=10\n",
    "compute_min_DCF(infpar_ll, infpar_labels, pi1, Cfn, Cfp)"
   ]
  },
  {
   "cell_type": "markdown",
   "id": "c7b064eb-8cff-4cb0-8bed-b128449adbd2",
   "metadata": {},
   "source": [
    "## Bayes Error Plots"
   ]
  },
  {
   "cell_type": "code",
   "execution_count": 96,
   "id": "c7181959-6c17-4e9e-b82d-703007aad601",
   "metadata": {},
   "outputs": [
    {
     "data": {
      "image/png": "[encoded data removed]",
      "text/plain": [
       "<Figure size 432x288 with 1 Axes>"
      ]
     },
     "metadata": {
      "needs_background": "light"
     },
     "output_type": "display_data"
    }
   ],
   "source": [
    "effPriorLogOdds = np.linspace(-3, 3, 21)\n",
    "effPrior = 1 / (1+np.exp(-effPriorLogOdds))\n",
    "mindcf = []\n",
    "dcf = []\n",
    "for prior in effPrior:\n",
    "    mindcf.append(compute_min_DCF(infpar_ll, infpar_labels, prior, 1, 1))\n",
    "    dcf.append(compute_normalized_DCF(infpar_ll, infpar_labels, prior, 1, 1))\n",
    "plt.plot(effPriorLogOdds, dcf, label='DCF', color='r')\n",
    "plt.plot(effPriorLogOdds, mindcf, label='min DCF', color='b')\n",
    "plt.ylim([0, 1.1])\n",
    "plt.xlim([-3, 3])\n",
    "plt.legend(['DCF','min DCF'])\n",
    "plt.show()"
   ]
  },
  {
   "cell_type": "markdown",
   "id": "339661ad-1ed6-4d2c-99c1-1b8e577af147",
   "metadata": {},
   "source": [
    "### ROC curves"
   ]
  },
  {
   "cell_type": "code",
   "execution_count": 97,
   "id": "1d240837-41c4-424c-bcf2-df66c2ebdea5",
   "metadata": {},
   "outputs": [],
   "source": [
    "def plotROC(llrs, actual_labels):\n",
    "    TPR = []\n",
    "    FPR = []\n",
    "    llrs_sort = np.sort(llrs)\n",
    "    for i in llrs_sort:\n",
    "        predicted_labels = np.where(llrs > i+0.000001, 1, 0)\n",
    "        conf_matrix = build_confusion_matrix(predicted_labels, actual_labels)\n",
    "        TPR.append(conf_matrix[1, 1] / (conf_matrix[0, 1] + conf_matrix[1, 1]))\n",
    "        FPR.append(conf_matrix[1, 0] / (conf_matrix[0, 0] + conf_matrix[1, 0]))\n",
    "    plt.plot(np.array(FPR), np.array(TPR))"
   ]
  },
  {
   "cell_type": "code",
   "execution_count": 98,
   "id": "f8fe0092-9b22-4d4e-acda-16689096d674",
   "metadata": {},
   "outputs": [
    {
     "data": {
      "image/png": "[encoded data removed]",
      "text/plain": [
       "<Figure size 432x288 with 1 Axes>"
      ]
     },
     "metadata": {
      "needs_background": "light"
     },
     "output_type": "display_data"
    }
   ],
   "source": [
    "plotROC(infpar_ll, infpar_labels)"
   ]
  },
  {
   "cell_type": "markdown",
   "id": "c066ab57-7a7f-4283-8eda-0ec232574327",
   "metadata": {},
   "source": [
    "## Comparing recognizers"
   ]
  },
  {
   "cell_type": "code",
   "execution_count": 99,
   "id": "c3b640af-0799-4ca0-a238-cd7e5797dc47",
   "metadata": {},
   "outputs": [],
   "source": [
    "infpar_ll_eps1 = np.load('Data/commedia_llr_infpar_eps1.npy')"
   ]
  },
  {
   "cell_type": "code",
   "execution_count": 101,
   "id": "53df799d-b898-4aa3-a011-297553516e4a",
   "metadata": {},
   "outputs": [
    {
     "data": {
      "image/png": "[encoded data removed]",
      "text/plain": [
       "<Figure size 432x288 with 1 Axes>"
      ]
     },
     "metadata": {
      "needs_background": "light"
     },
     "output_type": "display_data"
    }
   ],
   "source": [
    "## eps = 0.001\n",
    "effPriorLogOdds = np.linspace(-3, 3, 21)\n",
    "effPrior = 1 / (1+np.exp(-effPriorLogOdds))\n",
    "mindcf = []\n",
    "dcf = []\n",
    "for prior in effPrior:\n",
    "    mindcf.append(compute_min_DCF(infpar_ll, infpar_labels, prior, 1, 1))\n",
    "    dcf.append(compute_normalized_DCF(infpar_ll, infpar_labels, prior, 1, 1))\n",
    "## eps = 1\n",
    "mindcf_eps1 = []\n",
    "dcf_eps1 = []\n",
    "for prior in effPrior:\n",
    "    mindcf_eps1.append(compute_min_DCF(infpar_ll_eps1, infpar_labels, prior, 1, 1))\n",
    "    dcf_eps1.append(compute_normalized_DCF(infpar_ll_eps1, infpar_labels, prior, 1, 1))\n",
    "plt.plot(effPriorLogOdds, dcf, label='DCF', color='r')\n",
    "plt.plot(effPriorLogOdds, mindcf, label='min DCF', color='b')\n",
    "plt.plot(effPriorLogOdds, dcf_eps1, label='DCF', color='y')\n",
    "plt.plot(effPriorLogOdds, mindcf_eps1, label='min DCF', color='c')\n",
    "plt.ylim([0, 1.1])\n",
    "plt.xlim([-3, 3])\n",
    "plt.legend(['DCF (eps = 0.001)','min DCF (eps = 0.001)','DCF (eps = 1)','min DCF (eps = 1)'])\n",
    "plt.show()"
   ]
  },
  {
   "cell_type": "code",
   "execution_count": 102,
   "id": "c77d2fd5-91c1-4d69-80a1-ed42321a84b1",
   "metadata": {},
   "outputs": [],
   "source": [
    "def compute_DCF(scores, actual_labels, pi1, Cfn, Cfp):\n",
    "    M = compute_optimalBayes_confusionMatrix(scores, actual_labels, pi1,Cfn,Cfp)\n",
    "    fnr = M[0,1] / (M[0,1] + M[1,1])\n",
    "    fpr = M[1,0] / (M[0,0] + M[1,0])\n",
    "    return pi1 * Cfn * fnr + (1-pi1)*Cfp*fpr"
   ]
  },
  {
   "cell_type": "code",
   "execution_count": 103,
   "id": "de00ef5e-6568-4e2b-a4a0-258a2026ad31",
   "metadata": {},
   "outputs": [],
   "source": [
    "def compute_optimalBayes_confusionMatrix(scores, actual_labels, pi1, Cfn, Cfp):\n",
    "    conf_matrix = np.zeros(shape=(2,2))\n",
    "    t = -np.log((pi1*Cfn)/((1-pi1)*Cfp))\n",
    "    predicted_labels = np.array(scores > t, dtype='int32')\n",
    "    return build_confusion_matrix(predicted_labels, actual_labels)"
   ]
  },
  {
   "cell_type": "code",
   "execution_count": 104,
   "id": "1d64fba4-61f4-4f87-a468-87a43e96d8a4",
   "metadata": {},
   "outputs": [],
   "source": [
    "def compute_normalized_DCF(scores, actual_labels, pi1, Cfn, Cfp):\n",
    "    Bdummy = np.minimum(pi1*Cfn, (1-pi1)*Cfp)\n",
    "    return compute_DCF(scores, actual_labels, pi1, Cfn, Cfp) / Bdummy"
   ]
  },
  {
   "cell_type": "code",
   "execution_count": 105,
   "id": "071c62cb-702e-48c6-a158-93711ae0d2fc",
   "metadata": {},
   "outputs": [],
   "source": [
    "def compute_min_DCF(scores, actual_labels, pi1, Cfn, Cfp):\n",
    "    scores_sort = np.sort(scores)\n",
    "    normDCFs = []\n",
    "    for i in scores_sort:\n",
    "        predicted_labels = np.where(scores > i+0.000001, 1, 0)\n",
    "        M = build_confusion_matrix(predicted_labels, actual_labels)\n",
    "        fnr = M[0,1] / (M[0,1] + M[1,1])\n",
    "        fpr = M[1,0] / (M[0,0] + M[1,0])\n",
    "        dcf = pi1 * Cfn * fnr + (1-pi1)*Cfp*fpr\n",
    "        Bdummy = np.minimum(pi1*Cfn, (1-pi1)*Cfp)\n",
    "        dcf_norm = dcf / Bdummy\n",
    "        normDCFs.append(dcf_norm)\n",
    "    return min(normDCFs)"
   ]
  },
  {
   "cell_type": "code",
   "execution_count": null,
   "id": "5e4200d7-d995-4654-95bc-5b5ef9206f79",
   "metadata": {},
   "outputs": [],
   "source": []
  }
 ],
 "metadata": {
  "kernelspec": {
   "display_name": "Python 3 (ipykernel)",
   "language": "python",
   "name": "python3"
  },
  "language_info": {
   "codemirror_mode": {
    "name": "ipython",
    "version": 3
   },
   "file_extension": ".py",
   "mimetype": "text/x-python",
   "name": "python",
   "nbconvert_exporter": "python",
   "pygments_lexer": "ipython3",
   "version": "3.9.7"
  }
 },
 "nbformat": 4,
 "nbformat_minor": 5
}
