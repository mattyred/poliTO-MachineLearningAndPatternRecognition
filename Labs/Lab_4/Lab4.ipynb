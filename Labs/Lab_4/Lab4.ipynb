{
 "cells": [
  {
   "cell_type": "code",
   "execution_count": 2,
   "id": "27e57e9c-dbd4-4f7b-b771-eb1cccb63c2d",
   "metadata": {},
   "outputs": [],
   "source": [
    "import numpy as np\n",
    "import matplotlib.pyplot as plt"
   ]
  },
  {
   "cell_type": "code",
   "execution_count": 3,
   "id": "9a272d51-329a-492f-8e00-45d6a381951c",
   "metadata": {},
   "outputs": [],
   "source": [
    "def logpdf_GAU_ND_1sample(x,mu,C):\n",
    "    M = x.shape[0] # num of features of sample x\n",
    "    mu = mu.reshape(M,1) # mean of the sample\n",
    "    xc = x - mu # x centered\n",
    "    invC = np.linalg.inv(C)\n",
    "    _,log_abs_detC = np.linalg.slogdet(C)\n",
    "    return -M/2 * np.log(2*np.pi) - 1/2 * log_abs_detC - 1/2 * np.dot(np.dot(xc.T,invC),xc)"
   ]
  },
  {
   "cell_type": "code",
   "execution_count": 4,
   "id": "4e0e9c24-5827-47e4-8b70-2b7eb85436d7",
   "metadata": {},
   "outputs": [],
   "source": [
    "def logpdf_GAU_ND(x,mu,C):\n",
    "    M = x.shape[0] # num of features\n",
    "    N = x.shape[1] # num of samples\n",
    "    y = np.zeros(N) # array of N scalar elements\n",
    "    for i in range(N):\n",
    "        density_xi = logpdf_GAU_ND_1sample(x[:,i:i+1],mu,C)\n",
    "        y[i] = density_xi\n",
    "    return y"
   ]
  },
  {
   "cell_type": "code",
   "execution_count": 5,
   "id": "01cd76ec-356a-4c64-80c4-aa16b3c55d43",
   "metadata": {},
   "outputs": [
    {
     "data": {
      "image/png": "[encoded data removed]",
      "text/plain": [
       "<Figure size 432x288 with 1 Axes>"
      ]
     },
     "metadata": {
      "needs_background": "light"
     },
     "output_type": "display_data"
    }
   ],
   "source": [
    "plt.figure()\n",
    "XPlot = np.linspace(-8, 12, 1000).reshape(1,-1) # N=1000 samples of M=1 features -> it is a row vector\n",
    "mu = np.ones((1,1)) * 1.0\n",
    "C = np.ones((1,1)) * 2.0\n",
    "y = logpdf_GAU_ND(XPlot,mu,C)\n",
    "plt.plot(XPlot.ravel(), np.exp(y))\n",
    "plt.show()"
   ]
  },
  {
   "cell_type": "code",
   "execution_count": 6,
   "id": "175f0ce4-139e-430c-bf18-17b2d302be53",
   "metadata": {},
   "outputs": [
    {
     "name": "stdout",
     "output_type": "stream",
     "text": [
      "0.0\n"
     ]
    }
   ],
   "source": [
    "XND = np.load('Solutions/XND.npy')\n",
    "mu = np.load('Solutions/muND.npy')\n",
    "C = np.load('Solutions/CND.npy')\n",
    "pdfSol = np.load('Solutions/llND.npy')\n",
    "pdfGau = logpdf_GAU_ND(XND, mu, C)\n",
    "print(np.abs(pdfSol - pdfGau).max())"
   ]
  },
  {
   "cell_type": "code",
   "execution_count": 8,
   "id": "b60ff512-d470-4c91-bc21-81619b036f55",
   "metadata": {},
   "outputs": [
    {
     "data": {
      "text/plain": [
       "(2, 100)"
      ]
     },
     "execution_count": 8,
     "metadata": {},
     "output_type": "execute_result"
    }
   ],
   "source": [
    "XND.shape"
   ]
  },
  {
   "cell_type": "code",
   "execution_count": 48,
   "id": "6855f386-046c-44a4-8240-754c77ad87da",
   "metadata": {},
   "outputs": [],
   "source": [
    "M = XND.shape[0]\n",
    "N = XND.shape[1]\n",
    "# compute mu_ML\n",
    "mu_ML = np.mean(XND, axis=1).reshape(-1,1)"
   ]
  },
  {
   "cell_type": "code",
   "execution_count": 49,
   "id": "4013b3d8-0dc3-417b-8598-ac3da6e9a3cb",
   "metadata": {},
   "outputs": [],
   "source": [
    "# compute sigma_ML\n",
    "XNDc = XND - mu_ML\n",
    "sigma_ML = 1/N * np.dot(XNDc,XNDc.T)"
   ]
  },
  {
   "cell_type": "code",
   "execution_count": 50,
   "id": "3d20359d-3077-4228-8aeb-09bcf567908e",
   "metadata": {},
   "outputs": [],
   "source": [
    "def loglikelihood(XND, m_ML, C_ML):\n",
    "    return sum(logpdf_GAU_ND(XND,m_ML,C_ML))"
   ]
  },
  {
   "cell_type": "code",
   "execution_count": 51,
   "id": "dc6be2b2-0f99-4e78-850a-472ddcf3e8b3",
   "metadata": {},
   "outputs": [
    {
     "data": {
      "text/plain": [
       "-270.7047802379504"
      ]
     },
     "execution_count": 51,
     "metadata": {},
     "output_type": "execute_result"
    }
   ],
   "source": [
    "loglikelihood(XND,mu_ML,sigma_ML)"
   ]
  },
  {
   "cell_type": "code",
   "execution_count": 52,
   "id": "409be510-e20a-48e1-9a73-9406887616d9",
   "metadata": {},
   "outputs": [],
   "source": [
    "X1D = np.load('Solutions/X1d.npy')"
   ]
  },
  {
   "cell_type": "code",
   "execution_count": 61,
   "id": "f26d9551-d068-49ad-ad88-bd39f8b0ca0b",
   "metadata": {},
   "outputs": [],
   "source": [
    "mu_ML = np.mean(X1D, axis=1).reshape(-1,1)\n",
    "X1Dc = X1D - mu_ML\n",
    "N = X1D.shape[1]\n",
    "sigma_ML = 1/N * np.dot(X1Dc,X1Dc.T)"
   ]
  },
  {
   "cell_type": "code",
   "execution_count": 63,
   "id": "878be031-6c45-4250-8394-a4bfa2e5324f",
   "metadata": {},
   "outputs": [
    {
     "data": {
      "text/plain": [
       "[<matplotlib.lines.Line2D at 0x7fae6b1dbbe0>]"
      ]
     },
     "execution_count": 63,
     "metadata": {},
     "output_type": "execute_result"
    },
    {
     "data": {
      "image/png": "[encoded data removed]",
      "text/plain": [
       "<Figure size 432x288 with 1 Axes>"
      ]
     },
     "metadata": {
      "needs_background": "light"
     },
     "output_type": "display_data"
    }
   ],
   "source": [
    "plt.figure()\n",
    "plt.hist(X1D.ravel(), bins=50, density=True)\n",
    "XPlot = np.linspace(-8, 12, 1000).reshape(1,-1)\n",
    "plt.plot(XPlot.ravel(), np.exp(logpdf_GAU_ND(XPlot, mu_ML, sigma_ML)))"
   ]
  },
  {
   "cell_type": "code",
   "execution_count": null,
   "id": "c1de9cb4-58ab-4f09-aa6f-4eaad69e20df",
   "metadata": {},
   "outputs": [],
   "source": []
  },
  {
   "cell_type": "code",
   "execution_count": null,
   "id": "aaf94c56-aa25-4c2d-9236-e6059807627d",
   "metadata": {},
   "outputs": [],
   "source": []
  }
 ],
 "metadata": {
  "kernelspec": {
   "display_name": "Python 3 (ipykernel)",
   "language": "python",
   "name": "python3"
  },
  "language_info": {
   "codemirror_mode": {
    "name": "ipython",
    "version": 3
   },
   "file_extension": ".py",
   "mimetype": "text/x-python",
   "name": "python",
   "nbconvert_exporter": "python",
   "pygments_lexer": "ipython3",
   "version": "3.9.7"
  }
 },
 "nbformat": 4,
 "nbformat_minor": 5
}
