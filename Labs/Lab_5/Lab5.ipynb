{
 "cells": [
  {
   "cell_type": "markdown",
   "id": "772fcb37-e3cf-4c68-b5e4-910371cb7c3c",
   "metadata": {},
   "source": [
    "## MVG Gaussian Classifier"
   ]
  },
  {
   "cell_type": "code",
   "execution_count": 17,
   "id": "2a58a59b-8bf7-4276-be31-2feb7a1f3543",
   "metadata": {},
   "outputs": [],
   "source": [
    "import numpy as np\n",
    "import scipy\n",
    "import matplotlib.pyplot as plt\n",
    "import sklearn.datasets\n",
    "def load_iris():\n",
    "    D, L = sklearn.datasets.load_iris()['data'].T, sklearn.datasets.load_iris()['target']\n",
    "    return D, L"
   ]
  },
  {
   "cell_type": "code",
   "execution_count": 18,
   "id": "4c680977-27d6-43a6-85f7-d48c1dc50523",
   "metadata": {},
   "outputs": [],
   "source": [
    "D, L = load_iris()"
   ]
  },
  {
   "cell_type": "code",
   "execution_count": 19,
   "id": "ca7062a5-5849-4a78-b2cd-6626b17abc90",
   "metadata": {},
   "outputs": [],
   "source": [
    "def split_db_2to1(D, L, seed=0):\n",
    "    nTrain = int(D.shape[1]*2.0/3.0) # 2/3 of the dataset D are used for training, 1/3 for validation\n",
    "    np.random.seed(seed)\n",
    "    idx = np.random.permutation(D.shape[1]) # take a random array of 150 elements, each element is 0<x<=149 (np.arange(150))\n",
    "    idxTrain = idx[0:nTrain] # first 100 are indices of training samples \n",
    "    idxTest = idx[nTrain:] # remaining 50 are indices of validation samples\n",
    "    DTR = D[:, idxTrain] # D for training\n",
    "    DTE = D[:, idxTest] # D for validation\n",
    "    LTR = L[idxTrain] # L for training\n",
    "    LTE = L[idxTest] # L for validation\n",
    "    return (DTR, LTR), (DTE, LTE)"
   ]
  },
  {
   "cell_type": "code",
   "execution_count": 20,
   "id": "349a74a4-c95e-45ff-888e-c327f840f1e6",
   "metadata": {},
   "outputs": [],
   "source": [
    "(DTR, LTR), (DTE, LTE) = split_db_2to1(D, L)"
   ]
  },
  {
   "cell_type": "markdown",
   "id": "3b19ab44-ee0b-469a-9ecd-43969ead6a03",
   "metadata": {},
   "source": [
    "Now we have to compute the ML solution. First we compute the empirical mean and variance for each class label"
   ]
  },
  {
   "cell_type": "markdown",
   "id": "2bea202c-eb1d-43d0-88b5-cfd0720167ce",
   "metadata": {},
   "source": [
    "The training phase consists in computing the empirical class mean and the empirical class covariance matrix given the training samples DTR. Here we're fitting a normal distribution to our training dataset"
   ]
  },
  {
   "cell_type": "code",
   "execution_count": 21,
   "id": "00e412b3-a61b-4de2-8eac-08fec3e88305",
   "metadata": {},
   "outputs": [],
   "source": [
    "mu_classes = [] # list of empiracal mean for each class\n",
    "cov_classes = [] # list of covariance matrix for each class\n",
    "for i in set(LTR):\n",
    "    DTR_class_i = DTR[:,LTR==i]\n",
    "    N_class_i = DTR_class_i.shape[1]\n",
    "    mu_class_i = DTR_class_i.mean(axis=1).reshape(-1,1)\n",
    "    cov_class_i = 1/N_class_i * np.dot(DTR_class_i-mu_class_i, (DTR_class_i-mu_class_i).T)\n",
    "    mu_classes.append(mu_class_i)\n",
    "    cov_classes.append(cov_class_i)"
   ]
  },
  {
   "cell_type": "markdown",
   "id": "b94a7d69-9358-41ed-af34-06f162884b4f",
   "metadata": {},
   "source": [
    "The test phase consists in computing the normal density for each testing sample, thus the probability for each test sample to belong to either class 0 or 1 or 2."
   ]
  },
  {
   "cell_type": "code",
   "execution_count": 22,
   "id": "db69955d-d7d7-4d48-9272-5e09fe533f51",
   "metadata": {},
   "outputs": [],
   "source": [
    "def logpdf_GAU_ND_1sample(x,mu,C):\n",
    "    M = x.shape[0] # num of features of sample x\n",
    "    mu = mu.reshape(M,1) # mean of the sample\n",
    "    xc = x - mu # x centered\n",
    "    invC = np.linalg.inv(C)\n",
    "    _,log_abs_detC = np.linalg.slogdet(C)\n",
    "    return -M/2 * np.log(2*np.pi) - 1/2 * log_abs_detC - 1/2 * np.dot(np.dot(xc.T,invC),xc)"
   ]
  },
  {
   "cell_type": "code",
   "execution_count": 23,
   "id": "3f3a5722-204a-4022-ad49-f7cc7eb9e78a",
   "metadata": {},
   "outputs": [],
   "source": [
    "S = np.zeros(shape=(3,DTE.shape[1]))\n",
    "for i in range(DTE.shape[1]):\n",
    "    xt = DTE[:,i:i+1] # test sample xt\n",
    "    # now compute the probability density related to each class label for the sample xt\n",
    "    score = np.zeros(shape=(3,1))\n",
    "    for j in set(LTE):\n",
    "        mu = mu_classes[j]\n",
    "        C = cov_classes[j]\n",
    "        score[j,:] = np.exp(logpdf_GAU_ND_1sample(xt,mu,C))\n",
    "    S[:,i:i+1] = score"
   ]
  },
  {
   "cell_type": "code",
   "execution_count": 24,
   "id": "a4e4efac-58b0-4e66-8070-eae105e15885",
   "metadata": {},
   "outputs": [
    {
     "name": "stdout",
     "output_type": "stream",
     "text": [
      "6.661338147750939e-15\n"
     ]
    }
   ],
   "source": [
    "SJoint = 1/3 * S # assuming that the prior probability is 1/3 for each class\n",
    "SJoint_sol = np.load('Solution/SJoint_MVG.npy')\n",
    "print(np.abs(SJoint_sol - SJoint).max()) # test if it's correct"
   ]
  },
  {
   "cell_type": "code",
   "execution_count": 25,
   "id": "6028d989-97ba-4b2c-adf0-d1adca57e46e",
   "metadata": {},
   "outputs": [],
   "source": [
    "SMarginal = SJoint.sum(0).reshape(-1,1)"
   ]
  },
  {
   "cell_type": "code",
   "execution_count": 26,
   "id": "e2d285d7-c604-4eb1-950c-b4d4aff44a7c",
   "metadata": {},
   "outputs": [],
   "source": [
    "SPost = np.zeros((3,50))\n",
    "for c in range(3):\n",
    "    SJoint_c = SJoint[c,:].reshape(-1,1)\n",
    "    SPost_c = (SJoint_c / SMarginal).reshape(1,-1)\n",
    "    SPost[c,:] = SPost_c"
   ]
  },
  {
   "cell_type": "code",
   "execution_count": 27,
   "id": "b4c90792-b9ba-47f3-abd1-47859fa2ec22",
   "metadata": {},
   "outputs": [
    {
     "name": "stdout",
     "output_type": "stream",
     "text": [
      "Error rate 4.000000%\n"
     ]
    }
   ],
   "source": [
    "predicted_labels = np.argmax(SPost,axis=0)\n",
    "corrected_assigned_labels = LTE==predicted_labels\n",
    "acc = sum(corrected_assigned_labels) / len(LTE)\n",
    "err = 1-acc\n",
    "print('Error rate %f%%' % (err * 100))"
   ]
  },
  {
   "cell_type": "markdown",
   "id": "6ba3ff99-58e1-4672-ae2b-3a1af8c2e386",
   "metadata": {},
   "source": [
    "Using logarithms calculus to avoid numerical issues:"
   ]
  },
  {
   "cell_type": "code",
   "execution_count": 28,
   "id": "cfa630dc-a05e-42be-af39-eec31520c5f1",
   "metadata": {},
   "outputs": [],
   "source": [
    "logSJoint = np.log(SJoint) + np.log(1/3)\n",
    "logSMarginal = scipy.special.logsumexp(logSJoint, axis=0).reshape(1,-1)\n",
    "log_SPost = logSJoint - logSMarginal  \n",
    "SPost_ = np.exp(log_SPost)"
   ]
  },
  {
   "cell_type": "markdown",
   "id": "0363a42e-1538-470b-953d-723c9d5396f6",
   "metadata": {},
   "source": [
    "## Naive Bayes"
   ]
  },
  {
   "cell_type": "code",
   "execution_count": 41,
   "id": "cd819a40-d18c-4149-8c3e-f2ea17faaf9a",
   "metadata": {},
   "outputs": [
    {
     "name": "stdout",
     "output_type": "stream",
     "text": [
      "Error rate 4.000000%\n"
     ]
    }
   ],
   "source": [
    "cov_classes_nbayes = []\n",
    "for i in range(3):\n",
    "    cov_classes_nbayes.append(cov_classes[i]*np.identity(4))\n",
    "SPost_nbayes = compute_post_probabilities(DTE,LTE,mu_classes,cov_classes_nbayes)\n",
    "predicted_labels = np.argmax(SPost_nbayes,axis=0)\n",
    "corrected_assigned_labels = LTE==predicted_labels\n",
    "acc = sum(corrected_assigned_labels) / len(LTE)\n",
    "err = 1-acc\n",
    "print('Error rate %f%%' % (err * 100))"
   ]
  },
  {
   "cell_type": "code",
   "execution_count": 96,
   "id": "d6df9bae-4dd8-451d-9c84-7dcfa4cf59ed",
   "metadata": {},
   "outputs": [],
   "source": [
    "def compute_post_probabilities(DTE, LTE, mu_classes, cov_classes):\n",
    "    num_classes = len(set(LTE))\n",
    "    num_test_samples = DTE.shape[1]\n",
    "    S = np.zeros(shape=(num_classes,num_test_samples))\n",
    "    for i in range(num_test_samples):\n",
    "        xt = DTE[:,i:i+1] # test sample xt\n",
    "        # now compute the probability density related to each class label for the sample xt\n",
    "        score = np.zeros(shape=(num_classes,1))\n",
    "        for j in set(LTE):\n",
    "            mu = mu_classes[j]\n",
    "            C = cov_classes[j]\n",
    "            score[j,:] = np.exp(logpdf_GAU_ND_1sample(xt,mu,C))\n",
    "        S[:,i:i+1] = score\n",
    "        \n",
    "    prior_prob = 1 / num_test_samples\n",
    "    SJoint = S * prior_prob\n",
    "    SMarginal = SJoint.sum(0).reshape(-1,1)\n",
    "    # compute class posterior probabilities SPost = SJoint / SMarginal\n",
    "    SPost = np.zeros((num_classes,num_test_samples))\n",
    "    for c in range(num_classes):\n",
    "        SJoint_c = SJoint[c,:].reshape(-1,1)\n",
    "        SPost_c = (SJoint_c / SMarginal).reshape(1,-1)\n",
    "        SPost[c,:] = SPost_c\n",
    "    return SPost"
   ]
  },
  {
   "cell_type": "code",
   "execution_count": 37,
   "id": "19af58ba-b081-47a5-a819-e260d70f59b6",
   "metadata": {},
   "outputs": [],
   "source": [
    "def predict_labels(SPost ,LTE):\n",
    "    predicted_labels = np.argmax(SPost,axis=0)\n",
    "    corrected_assigned_labels = LTE==predicted_labels\n",
    "    acc = sum(corrected_assigned_labels) / len(LTE)\n",
    "    err = 1-acc\n",
    "    return (predicted_labels, acc, err)"
   ]
  },
  {
   "cell_type": "markdown",
   "id": "98ee671a-29d4-40d1-b6f7-024aa67ece2a",
   "metadata": {},
   "source": [
    "## Tied Covariance"
   ]
  },
  {
   "cell_type": "code",
   "execution_count": 32,
   "id": "921bc966-7106-4db9-8779-60a547e005c1",
   "metadata": {},
   "outputs": [],
   "source": [
    "num_samples_per_class = [sum(LTR == i) for i in range(3)]\n",
    "tied_cov = 0\n",
    "for i in range(3):\n",
    "    tied_cov += (num_samples_per_class[i] * cov_classes[i])\n",
    "tied_cov *= 1/sum(num_samples_per_class)"
   ]
  },
  {
   "cell_type": "code",
   "execution_count": 33,
   "id": "478d6b3a-2d67-4d90-bc68-92ad8f68e2ed",
   "metadata": {},
   "outputs": [
    {
     "data": {
      "text/plain": [
       "array([[0.23637589, 0.09525344, 0.1364944 , 0.03614529],\n",
       "       [0.09525344, 0.11618517, 0.05768855, 0.0357726 ],\n",
       "       [0.1364944 , 0.05768855, 0.14992811, 0.03746458],\n",
       "       [0.03614529, 0.0357726 , 0.03746458, 0.04291763]])"
      ]
     },
     "execution_count": 33,
     "metadata": {},
     "output_type": "execute_result"
    }
   ],
   "source": [
    "tied_cov"
   ]
  },
  {
   "cell_type": "markdown",
   "id": "ba653f18-26f9-4a84-ab2d-1bb1877eb964",
   "metadata": {},
   "source": [
    "To compute the probabilities maybe we can use the compute_post_probabilities function but inside we have only one covariance matrix so the row C = cov_classes[j] should be removed?"
   ]
  },
  {
   "cell_type": "code",
   "execution_count": 34,
   "id": "337e1596-ff8e-4245-80e2-5fb489b0dc50",
   "metadata": {},
   "outputs": [],
   "source": [
    "def compute_post_probabilities_tied(DTE, LTE, mu_classes, tied_cov):\n",
    "    num_classes = len(set(LTE))\n",
    "    num_test_samples = DTE.shape[1]\n",
    "    S = np.zeros(shape=(num_classes,num_test_samples))\n",
    "    for i in range(num_test_samples):\n",
    "        xt = DTE[:,i:i+1] # test sample xt\n",
    "        # now compute the probability density related to each class label for the sample xt\n",
    "        score = np.zeros(shape=(num_classes,1))\n",
    "        for j in set(LTE):\n",
    "            mu = mu_classes[j]\n",
    "            C = tied_cov\n",
    "            score[j,:] = np.exp(logpdf_GAU_ND_1sample(xt,mu,C))\n",
    "        S[:,i:i+1] = score\n",
    "        \n",
    "    prior_prob = 1 / num_test_samples\n",
    "    SJoint = S * prior_prob\n",
    "    SMarginal = SJoint.sum(0).reshape(-1,1)\n",
    "    # compute class posterior probabilities SPost = SJoint / SMarginal\n",
    "    SPost = np.zeros((num_classes,num_test_samples))\n",
    "    for c in range(num_classes):\n",
    "        SJoint_c = SJoint[c,:].reshape(-1,1)\n",
    "        SPost_c = (SJoint_c / SMarginal).reshape(1,-1)\n",
    "        SPost[c,:] = SPost_c\n",
    "    return SPost"
   ]
  },
  {
   "cell_type": "code",
   "execution_count": 40,
   "id": "6486f032-ed23-413b-b315-d71ef36752c7",
   "metadata": {},
   "outputs": [
    {
     "name": "stdout",
     "output_type": "stream",
     "text": [
      "Error rate 2.000000%\n"
     ]
    }
   ],
   "source": [
    "SPost = compute_post_probabilities_tied(DTE,LTE,mu_classes,tied_cov)\n",
    "predicted_labels, acc, err = predict_labels(SPost, LTE)\n",
    "print('Error rate %f%%' % (err * 100))"
   ]
  },
  {
   "cell_type": "markdown",
   "id": "874da482-3274-4b87-9ace-877771a6c0f7",
   "metadata": {},
   "source": [
    "## K fold cross validation"
   ]
  },
  {
   "cell_type": "markdown",
   "id": "f7a06f75-0f50-49f1-a298-f4ec1883340b",
   "metadata": {},
   "source": [
    "### MVG classifier"
   ]
  },
  {
   "cell_type": "code",
   "execution_count": 75,
   "id": "1e250728-a4f2-4987-8907-83c36a3a1e3a",
   "metadata": {},
   "outputs": [
    {
     "name": "stdout",
     "output_type": "stream",
     "text": [
      "[0]\n"
     ]
    }
   ],
   "source": [
    "tot_err = 0\n",
    "for i in range(D.shape[1]):\n",
    "    # compute the training and test set\n",
    "    test = np.zeros(D.shape[1], dtype=bool)\n",
    "    test[i] = True\n",
    "    Dtrain = D[:,test == False] \n",
    "    Dtest = D[:, test == True]\n",
    "    Ltrain = L[test == False]\n",
    "    Ltest = L[test == True]\n",
    "    \n",
    "    # train MVG classifier\n",
    "    mu_classes = [] \n",
    "    cov_classes = [] \n",
    "    for j in set(Ltrain):\n",
    "        Dtrain_class_j = Dtrain[:,Ltrain==j]\n",
    "        N_class_j = Dtrain_class_j.shape[1]\n",
    "        mu_class_j = Dtrain_class_j.mean(axis=1).reshape(-1,1)\n",
    "        cov_class_j = 1/N_class_j * np.dot(Dtrain_class_j-mu_class_j, (Dtrain_class_j-mu_class_j).T)\n",
    "        mu_classes.append(mu_class_j)\n",
    "        cov_classes.append(cov_class_j)\n",
    "    # fit MVG classifier\n",
    "    SPost = compute_post_probabilities(Dtrain,Ltrain,mu_classes,cov_classes)\n",
    "    if i==0:\n",
    "        print(Ltest)\n",
    "    _, _, err = predict_labels(SPost, Ltest)\n",
    "    tot_err += err\n",
    "    "
   ]
  },
  {
   "cell_type": "code",
   "execution_count": 70,
   "id": "d6dcd53f-5457-4b54-ab45-cd806697d2a7",
   "metadata": {},
   "outputs": [
    {
     "data": {
      "text/plain": [
       "-7202.0"
      ]
     },
     "execution_count": 70,
     "metadata": {},
     "output_type": "execute_result"
    }
   ],
   "source": [
    "tot_err"
   ]
  },
  {
   "cell_type": "code",
   "execution_count": 137,
   "id": "cf5610d7-e287-42be-b23b-ac35b3fe0ac0",
   "metadata": {},
   "outputs": [
    {
     "data": {
      "text/plain": [
       "0.6799999999999999"
      ]
     },
     "execution_count": 137,
     "metadata": {},
     "output_type": "execute_result"
    }
   ],
   "source": [
    "test = np.zeros(D.shape[1], dtype=bool)\n",
    "test[0] = True\n",
    "Ltest = L[test == True]\n",
    "test = np.zeros(D.shape[1], dtype=bool)\n",
    "test[i] = True\n",
    "Dtrain = D[:,test == False] \n",
    "Dtest = D[:, test == True]\n",
    "Ltrain = L[test == False]\n",
    "Ltest = L[test == True]\n",
    "    \n",
    "# train MVG classifier\n",
    "mu_classes = [] \n",
    "cov_classes = [] \n",
    "for j in set(Ltrain):\n",
    "    Dtrain_class_j = Dtrain[:,Ltrain==j]\n",
    "    N_class_j = Dtrain_class_j.shape[1]\n",
    "    mu_class_j = Dtrain_class_j.mean(axis=1).reshape(-1,1)\n",
    "    cov_class_j = 1/N_class_j * np.dot(Dtrain_class_j-mu_class_j, (Dtrain_class_j-mu_class_j).T)\n",
    "    mu_classes.append(mu_class_j)\n",
    "    cov_classes.append(cov_class_j)\n",
    "# fit MVG classifier\n",
    "SPost = compute_post_probabilities_onesample(Dtest,Ltest,mu_classes,cov_classes)\n",
    "\n",
    "predicted_labels = np.argmax(SPost,axis=0)\n",
    "corrected_assigned_labels = Ltest==predicted_labels\n",
    "acc = sum(corrected_assigned_labels) / len(LTE)\n",
    "err = 1-acc\n",
    "err\n",
    "#sommare gli errori, non l'error rate!"
   ]
  },
  {
   "cell_type": "code",
   "execution_count": 80,
   "id": "493ba084-8f1b-4dbf-b5d2-61415c7b1dee",
   "metadata": {},
   "outputs": [
    {
     "data": {
      "text/plain": [
       "array([ True, False, False, False, False, False, False, False, False,\n",
       "       False, False, False, False, False, False, False, False, False,\n",
       "       False, False, False, False, False, False, False, False, False,\n",
       "       False, False, False, False, False, False, False, False, False,\n",
       "       False, False, False, False, False, False, False, False, False,\n",
       "       False, False, False, False, False, False, False, False, False,\n",
       "       False, False, False, False, False, False, False, False, False,\n",
       "       False, False, False, False, False, False, False, False, False,\n",
       "       False, False, False, False, False, False, False, False, False,\n",
       "       False, False, False, False, False, False, False, False, False,\n",
       "       False, False, False, False, False, False, False, False, False,\n",
       "       False, False, False, False, False, False, False, False, False,\n",
       "       False, False, False, False, False, False, False, False, False,\n",
       "       False, False, False, False, False, False, False, False, False,\n",
       "       False, False, False, False, False, False, False, False, False,\n",
       "       False, False, False, False, False, False, False, False, False,\n",
       "       False, False, False, False, False, False])"
      ]
     },
     "execution_count": 80,
     "metadata": {},
     "output_type": "execute_result"
    }
   ],
   "source": [
    "def predict_labels_LOO(SPost ,LTE):\n",
    "    predicted_labels = np.argmax(SPost,axis=0)\n",
    "    corrected_assigned_labels = LTE==predicted_labels\n",
    "    acc = sum(corrected_assigned_labels) / len(LTE)\n",
    "    err = 1-acc\n",
    "    return (predicted_labels, acc, err)"
   ]
  },
  {
   "cell_type": "code",
   "execution_count": 120,
   "id": "3b918ce9-19f5-4645-82bc-319cfdeb8f04",
   "metadata": {},
   "outputs": [],
   "source": [
    "def compute_post_probabilities_onesample(DTE, LTE, mu_classes, cov_classes):\n",
    "    xt = DTE[:,0] # test sample xt\n",
    "    mu = mu_classes[LTE[0]]\n",
    "    C = cov_classes[LTE[0]]\n",
    "    S = np.exp(logpdf_GAU_ND_1sample(xt,mu,C))\n",
    "    SJoint = S.reshape(-1,1)\n",
    "    SMarginal = SJoint.sum(0).reshape(-1,1)\n",
    "    SPost = (SJoint / SMarginal).reshape(1,-1)\n",
    "    return SPost"
   ]
  },
  {
   "cell_type": "code",
   "execution_count": 130,
   "id": "b9172b3b-79f9-499e-9ba8-e535547c6528",
   "metadata": {},
   "outputs": [
    {
     "name": "stderr",
     "output_type": "stream",
     "text": [
      "/var/folders/48/1_svc68j0_b2js686ls_zqhh0000gn/T/ipykernel_3955/1283870879.py:2: DeprecationWarning: elementwise comparison failed; this will raise an error in the future.\n",
      "  corrected_assigned_labels = Ltrain==predicted_labels\n"
     ]
    }
   ],
   "source": [
    "predicted_labels = np.argmax(SPost,axis=0)\n",
    "corrected_assigned_labels = Ltrain==predicted_labels"
   ]
  },
  {
   "cell_type": "code",
   "execution_count": 132,
   "id": "d9d8690f-9252-488e-92c1-219910090fd3",
   "metadata": {},
   "outputs": [
    {
     "name": "stderr",
     "output_type": "stream",
     "text": [
      "/var/folders/48/1_svc68j0_b2js686ls_zqhh0000gn/T/ipykernel_3955/4157482623.py:1: DeprecationWarning: elementwise comparison failed; this will raise an error in the future.\n",
      "  Ltrain==predicted_labels\n"
     ]
    },
    {
     "data": {
      "text/plain": [
       "False"
      ]
     },
     "execution_count": 132,
     "metadata": {},
     "output_type": "execute_result"
    }
   ],
   "source": [
    "Ltrain==predicted_labels"
   ]
  },
  {
   "cell_type": "code",
   "execution_count": 133,
   "id": "a37a611c-a618-483d-a6c5-f4080cd57095",
   "metadata": {},
   "outputs": [
    {
     "data": {
      "text/plain": [
       "array([0, 0, 0, 0, 0, 0, 0, 0, 0, 0, 0, 0, 0, 0, 0, 0])"
      ]
     },
     "execution_count": 133,
     "metadata": {},
     "output_type": "execute_result"
    }
   ],
   "source": [
    "predicted_labels"
   ]
  },
  {
   "cell_type": "code",
   "execution_count": 134,
   "id": "ca86f544-24cd-4514-a59f-87262d26734f",
   "metadata": {},
   "outputs": [
    {
     "data": {
      "text/plain": [
       "array([0, 0, 0, 0, 0, 0, 0, 0, 0, 0, 0, 0, 0, 0, 0, 0, 0, 0, 0, 0, 0, 0,\n",
       "       0, 0, 0, 0, 0, 0, 0, 0, 0, 0, 0, 0, 0, 0, 0, 0, 0, 0, 0, 0, 0, 0,\n",
       "       0, 0, 0, 0, 0, 1, 1, 1, 1, 1, 1, 1, 1, 1, 1, 1, 1, 1, 1, 1, 1, 1,\n",
       "       1, 1, 1, 1, 1, 1, 1, 1, 1, 1, 1, 1, 1, 1, 1, 1, 1, 1, 1, 1, 1, 1,\n",
       "       1, 1, 1, 1, 1, 1, 1, 1, 1, 1, 1, 2, 2, 2, 2, 2, 2, 2, 2, 2, 2, 2,\n",
       "       2, 2, 2, 2, 2, 2, 2, 2, 2, 2, 2, 2, 2, 2, 2, 2, 2, 2, 2, 2, 2, 2,\n",
       "       2, 2, 2, 2, 2, 2, 2, 2, 2, 2, 2, 2, 2, 2, 2, 2, 2])"
      ]
     },
     "execution_count": 134,
     "metadata": {},
     "output_type": "execute_result"
    }
   ],
   "source": [
    "Ltrain"
   ]
  },
  {
   "cell_type": "code",
   "execution_count": null,
   "id": "0d2a41ae-7a02-4806-b7da-c4526f5baedf",
   "metadata": {},
   "outputs": [],
   "source": []
  }
 ],
 "metadata": {
  "kernelspec": {
   "display_name": "Python 3 (ipykernel)",
   "language": "python",
   "name": "python3"
  },
  "language_info": {
   "codemirror_mode": {
    "name": "ipython",
    "version": 3
   },
   "file_extension": ".py",
   "mimetype": "text/x-python",
   "name": "python",
   "nbconvert_exporter": "python",
   "pygments_lexer": "ipython3",
   "version": "3.9.7"
  }
 },
 "nbformat": 4,
 "nbformat_minor": 5
}
